{
 "cells": [
  {
   "cell_type": "code",
   "execution_count": 93,
   "id": "53bda5da",
   "metadata": {},
   "outputs": [],
   "source": [
    "import numpy as np\n",
    "import pandas as pd"
   ]
  },
  {
   "cell_type": "code",
   "execution_count": 94,
   "id": "7731f153",
   "metadata": {},
   "outputs": [],
   "source": [
    "import warnings\n",
    "warnings.filterwarnings('ignore')"
   ]
  },
  {
   "cell_type": "code",
   "execution_count": 95,
   "id": "bd35f0ac",
   "metadata": {},
   "outputs": [],
   "source": [
    "books = pd.read_csv('Books.csv')\n",
    "users = pd.read_csv('Users.csv')\n",
    "ratings = pd.read_csv('Ratings.csv')"
   ]
  },
  {
   "cell_type": "code",
   "execution_count": 96,
   "id": "60db2a66",
   "metadata": {},
   "outputs": [
    {
     "data": {
      "text/html": [
       "<div>\n",
       "<style scoped>\n",
       "    .dataframe tbody tr th:only-of-type {\n",
       "        vertical-align: middle;\n",
       "    }\n",
       "\n",
       "    .dataframe tbody tr th {\n",
       "        vertical-align: top;\n",
       "    }\n",
       "\n",
       "    .dataframe thead th {\n",
       "        text-align: right;\n",
       "    }\n",
       "</style>\n",
       "<table border=\"1\" class=\"dataframe\">\n",
       "  <thead>\n",
       "    <tr style=\"text-align: right;\">\n",
       "      <th></th>\n",
       "      <th>ISBN</th>\n",
       "      <th>Book-Title</th>\n",
       "      <th>Book-Author</th>\n",
       "      <th>Year-Of-Publication</th>\n",
       "      <th>Publisher</th>\n",
       "      <th>Image-URL-S</th>\n",
       "      <th>Image-URL-M</th>\n",
       "      <th>Image-URL-L</th>\n",
       "    </tr>\n",
       "  </thead>\n",
       "  <tbody>\n",
       "    <tr>\n",
       "      <th>0</th>\n",
       "      <td>0195153448</td>\n",
       "      <td>Classical Mythology</td>\n",
       "      <td>Mark P. O. Morford</td>\n",
       "      <td>2002</td>\n",
       "      <td>Oxford University Press</td>\n",
       "      <td>http://images.amazon.com/images/P/0195153448.0...</td>\n",
       "      <td>http://images.amazon.com/images/P/0195153448.0...</td>\n",
       "      <td>http://images.amazon.com/images/P/0195153448.0...</td>\n",
       "    </tr>\n",
       "  </tbody>\n",
       "</table>\n",
       "</div>"
      ],
      "text/plain": [
       "         ISBN           Book-Title         Book-Author Year-Of-Publication  \\\n",
       "0  0195153448  Classical Mythology  Mark P. O. Morford                2002   \n",
       "\n",
       "                 Publisher                                        Image-URL-S  \\\n",
       "0  Oxford University Press  http://images.amazon.com/images/P/0195153448.0...   \n",
       "\n",
       "                                         Image-URL-M  \\\n",
       "0  http://images.amazon.com/images/P/0195153448.0...   \n",
       "\n",
       "                                         Image-URL-L  \n",
       "0  http://images.amazon.com/images/P/0195153448.0...  "
      ]
     },
     "execution_count": 96,
     "metadata": {},
     "output_type": "execute_result"
    }
   ],
   "source": [
    "books.head(1)"
   ]
  },
  {
   "cell_type": "code",
   "execution_count": 97,
   "id": "d7636b66",
   "metadata": {},
   "outputs": [
    {
     "data": {
      "text/html": [
       "<div>\n",
       "<style scoped>\n",
       "    .dataframe tbody tr th:only-of-type {\n",
       "        vertical-align: middle;\n",
       "    }\n",
       "\n",
       "    .dataframe tbody tr th {\n",
       "        vertical-align: top;\n",
       "    }\n",
       "\n",
       "    .dataframe thead th {\n",
       "        text-align: right;\n",
       "    }\n",
       "</style>\n",
       "<table border=\"1\" class=\"dataframe\">\n",
       "  <thead>\n",
       "    <tr style=\"text-align: right;\">\n",
       "      <th></th>\n",
       "      <th>User-ID</th>\n",
       "      <th>Location</th>\n",
       "      <th>Age</th>\n",
       "    </tr>\n",
       "  </thead>\n",
       "  <tbody>\n",
       "    <tr>\n",
       "      <th>0</th>\n",
       "      <td>1</td>\n",
       "      <td>nyc, new york, usa</td>\n",
       "      <td>NaN</td>\n",
       "    </tr>\n",
       "    <tr>\n",
       "      <th>1</th>\n",
       "      <td>2</td>\n",
       "      <td>stockton, california, usa</td>\n",
       "      <td>18.0</td>\n",
       "    </tr>\n",
       "    <tr>\n",
       "      <th>2</th>\n",
       "      <td>3</td>\n",
       "      <td>moscow, yukon territory, russia</td>\n",
       "      <td>NaN</td>\n",
       "    </tr>\n",
       "    <tr>\n",
       "      <th>3</th>\n",
       "      <td>4</td>\n",
       "      <td>porto, v.n.gaia, portugal</td>\n",
       "      <td>17.0</td>\n",
       "    </tr>\n",
       "    <tr>\n",
       "      <th>4</th>\n",
       "      <td>5</td>\n",
       "      <td>farnborough, hants, united kingdom</td>\n",
       "      <td>NaN</td>\n",
       "    </tr>\n",
       "  </tbody>\n",
       "</table>\n",
       "</div>"
      ],
      "text/plain": [
       "   User-ID                            Location   Age\n",
       "0        1                  nyc, new york, usa   NaN\n",
       "1        2           stockton, california, usa  18.0\n",
       "2        3     moscow, yukon territory, russia   NaN\n",
       "3        4           porto, v.n.gaia, portugal  17.0\n",
       "4        5  farnborough, hants, united kingdom   NaN"
      ]
     },
     "execution_count": 97,
     "metadata": {},
     "output_type": "execute_result"
    }
   ],
   "source": [
    "users.head()"
   ]
  },
  {
   "cell_type": "code",
   "execution_count": 98,
   "id": "a1070ae5",
   "metadata": {},
   "outputs": [
    {
     "data": {
      "text/html": [
       "<div>\n",
       "<style scoped>\n",
       "    .dataframe tbody tr th:only-of-type {\n",
       "        vertical-align: middle;\n",
       "    }\n",
       "\n",
       "    .dataframe tbody tr th {\n",
       "        vertical-align: top;\n",
       "    }\n",
       "\n",
       "    .dataframe thead th {\n",
       "        text-align: right;\n",
       "    }\n",
       "</style>\n",
       "<table border=\"1\" class=\"dataframe\">\n",
       "  <thead>\n",
       "    <tr style=\"text-align: right;\">\n",
       "      <th></th>\n",
       "      <th>User-ID</th>\n",
       "      <th>ISBN</th>\n",
       "      <th>Book-Rating</th>\n",
       "    </tr>\n",
       "  </thead>\n",
       "  <tbody>\n",
       "    <tr>\n",
       "      <th>0</th>\n",
       "      <td>276725</td>\n",
       "      <td>034545104X</td>\n",
       "      <td>0</td>\n",
       "    </tr>\n",
       "    <tr>\n",
       "      <th>1</th>\n",
       "      <td>276726</td>\n",
       "      <td>0155061224</td>\n",
       "      <td>5</td>\n",
       "    </tr>\n",
       "    <tr>\n",
       "      <th>2</th>\n",
       "      <td>276727</td>\n",
       "      <td>0446520802</td>\n",
       "      <td>0</td>\n",
       "    </tr>\n",
       "    <tr>\n",
       "      <th>3</th>\n",
       "      <td>276729</td>\n",
       "      <td>052165615X</td>\n",
       "      <td>3</td>\n",
       "    </tr>\n",
       "    <tr>\n",
       "      <th>4</th>\n",
       "      <td>276729</td>\n",
       "      <td>0521795028</td>\n",
       "      <td>6</td>\n",
       "    </tr>\n",
       "  </tbody>\n",
       "</table>\n",
       "</div>"
      ],
      "text/plain": [
       "   User-ID        ISBN  Book-Rating\n",
       "0   276725  034545104X            0\n",
       "1   276726  0155061224            5\n",
       "2   276727  0446520802            0\n",
       "3   276729  052165615X            3\n",
       "4   276729  0521795028            6"
      ]
     },
     "execution_count": 98,
     "metadata": {},
     "output_type": "execute_result"
    }
   ],
   "source": [
    "ratings.head()"
   ]
  },
  {
   "cell_type": "code",
   "execution_count": 99,
   "id": "6019671a",
   "metadata": {},
   "outputs": [
    {
     "name": "stdout",
     "output_type": "stream",
     "text": [
      "(271360, 8)\n",
      "(278858, 3)\n",
      "(1149780, 3)\n"
     ]
    }
   ],
   "source": [
    "print(books.shape)\n",
    "print(users.shape)\n",
    "print(ratings.shape)"
   ]
  },
  {
   "cell_type": "markdown",
   "id": "2974338b",
   "metadata": {},
   "source": [
    "### Checking Null Values"
   ]
  },
  {
   "cell_type": "code",
   "execution_count": 100,
   "id": "5bad8a90",
   "metadata": {},
   "outputs": [
    {
     "data": {
      "text/plain": [
       "ISBN                   0\n",
       "Book-Title             0\n",
       "Book-Author            2\n",
       "Year-Of-Publication    0\n",
       "Publisher              2\n",
       "Image-URL-S            0\n",
       "Image-URL-M            0\n",
       "Image-URL-L            3\n",
       "dtype: int64"
      ]
     },
     "execution_count": 100,
     "metadata": {},
     "output_type": "execute_result"
    }
   ],
   "source": [
    "books.isnull().sum()"
   ]
  },
  {
   "cell_type": "code",
   "execution_count": 101,
   "id": "0b0a68d6",
   "metadata": {},
   "outputs": [
    {
     "data": {
      "text/plain": [
       "User-ID          0\n",
       "Location         0\n",
       "Age         110762\n",
       "dtype: int64"
      ]
     },
     "execution_count": 101,
     "metadata": {},
     "output_type": "execute_result"
    }
   ],
   "source": [
    "users.isnull().sum()"
   ]
  },
  {
   "cell_type": "code",
   "execution_count": 102,
   "id": "245d6e1c",
   "metadata": {},
   "outputs": [
    {
     "data": {
      "text/plain": [
       "User-ID        0\n",
       "ISBN           0\n",
       "Book-Rating    0\n",
       "dtype: int64"
      ]
     },
     "execution_count": 102,
     "metadata": {},
     "output_type": "execute_result"
    }
   ],
   "source": [
    "ratings.isnull().sum()"
   ]
  },
  {
   "cell_type": "markdown",
   "id": "527b65f4",
   "metadata": {},
   "source": [
    "### Checking Duplicated Values"
   ]
  },
  {
   "cell_type": "code",
   "execution_count": 103,
   "id": "8fe9994c",
   "metadata": {},
   "outputs": [
    {
     "data": {
      "text/plain": [
       "0"
      ]
     },
     "execution_count": 103,
     "metadata": {},
     "output_type": "execute_result"
    }
   ],
   "source": [
    "books.duplicated().sum()"
   ]
  },
  {
   "cell_type": "code",
   "execution_count": 104,
   "id": "0b0879f8",
   "metadata": {},
   "outputs": [
    {
     "data": {
      "text/plain": [
       "0"
      ]
     },
     "execution_count": 104,
     "metadata": {},
     "output_type": "execute_result"
    }
   ],
   "source": [
    "users.duplicated().sum()"
   ]
  },
  {
   "cell_type": "code",
   "execution_count": 105,
   "id": "0ebae2e0",
   "metadata": {},
   "outputs": [
    {
     "data": {
      "text/plain": [
       "0"
      ]
     },
     "execution_count": 105,
     "metadata": {},
     "output_type": "execute_result"
    }
   ],
   "source": [
    "ratings.duplicated().sum()"
   ]
  },
  {
   "cell_type": "markdown",
   "id": "f44bdb6b",
   "metadata": {},
   "source": [
    "### Popularity Based Recommender System"
   ]
  },
  {
   "cell_type": "code",
   "execution_count": 123,
   "id": "3a470356",
   "metadata": {},
   "outputs": [],
   "source": [
    "ratings_with_name = ratings.merge(books,on='ISBN')"
   ]
  },
  {
   "cell_type": "code",
   "execution_count": 124,
   "id": "d08cd0a6",
   "metadata": {},
   "outputs": [
    {
     "data": {
      "text/html": [
       "<div>\n",
       "<style scoped>\n",
       "    .dataframe tbody tr th:only-of-type {\n",
       "        vertical-align: middle;\n",
       "    }\n",
       "\n",
       "    .dataframe tbody tr th {\n",
       "        vertical-align: top;\n",
       "    }\n",
       "\n",
       "    .dataframe thead th {\n",
       "        text-align: right;\n",
       "    }\n",
       "</style>\n",
       "<table border=\"1\" class=\"dataframe\">\n",
       "  <thead>\n",
       "    <tr style=\"text-align: right;\">\n",
       "      <th></th>\n",
       "      <th>User-ID</th>\n",
       "      <th>ISBN</th>\n",
       "      <th>Book-Rating</th>\n",
       "      <th>Book-Title</th>\n",
       "      <th>Book-Author</th>\n",
       "      <th>Year-Of-Publication</th>\n",
       "      <th>Publisher</th>\n",
       "      <th>Image-URL-S</th>\n",
       "      <th>Image-URL-M</th>\n",
       "      <th>Image-URL-L</th>\n",
       "    </tr>\n",
       "  </thead>\n",
       "  <tbody>\n",
       "    <tr>\n",
       "      <th>0</th>\n",
       "      <td>276725</td>\n",
       "      <td>034545104X</td>\n",
       "      <td>0</td>\n",
       "      <td>Flesh Tones: A Novel</td>\n",
       "      <td>M. J. Rose</td>\n",
       "      <td>2002</td>\n",
       "      <td>Ballantine Books</td>\n",
       "      <td>http://images.amazon.com/images/P/034545104X.0...</td>\n",
       "      <td>http://images.amazon.com/images/P/034545104X.0...</td>\n",
       "      <td>http://images.amazon.com/images/P/034545104X.0...</td>\n",
       "    </tr>\n",
       "    <tr>\n",
       "      <th>1</th>\n",
       "      <td>2313</td>\n",
       "      <td>034545104X</td>\n",
       "      <td>5</td>\n",
       "      <td>Flesh Tones: A Novel</td>\n",
       "      <td>M. J. Rose</td>\n",
       "      <td>2002</td>\n",
       "      <td>Ballantine Books</td>\n",
       "      <td>http://images.amazon.com/images/P/034545104X.0...</td>\n",
       "      <td>http://images.amazon.com/images/P/034545104X.0...</td>\n",
       "      <td>http://images.amazon.com/images/P/034545104X.0...</td>\n",
       "    </tr>\n",
       "    <tr>\n",
       "      <th>2</th>\n",
       "      <td>6543</td>\n",
       "      <td>034545104X</td>\n",
       "      <td>0</td>\n",
       "      <td>Flesh Tones: A Novel</td>\n",
       "      <td>M. J. Rose</td>\n",
       "      <td>2002</td>\n",
       "      <td>Ballantine Books</td>\n",
       "      <td>http://images.amazon.com/images/P/034545104X.0...</td>\n",
       "      <td>http://images.amazon.com/images/P/034545104X.0...</td>\n",
       "      <td>http://images.amazon.com/images/P/034545104X.0...</td>\n",
       "    </tr>\n",
       "    <tr>\n",
       "      <th>3</th>\n",
       "      <td>8680</td>\n",
       "      <td>034545104X</td>\n",
       "      <td>5</td>\n",
       "      <td>Flesh Tones: A Novel</td>\n",
       "      <td>M. J. Rose</td>\n",
       "      <td>2002</td>\n",
       "      <td>Ballantine Books</td>\n",
       "      <td>http://images.amazon.com/images/P/034545104X.0...</td>\n",
       "      <td>http://images.amazon.com/images/P/034545104X.0...</td>\n",
       "      <td>http://images.amazon.com/images/P/034545104X.0...</td>\n",
       "    </tr>\n",
       "    <tr>\n",
       "      <th>4</th>\n",
       "      <td>10314</td>\n",
       "      <td>034545104X</td>\n",
       "      <td>9</td>\n",
       "      <td>Flesh Tones: A Novel</td>\n",
       "      <td>M. J. Rose</td>\n",
       "      <td>2002</td>\n",
       "      <td>Ballantine Books</td>\n",
       "      <td>http://images.amazon.com/images/P/034545104X.0...</td>\n",
       "      <td>http://images.amazon.com/images/P/034545104X.0...</td>\n",
       "      <td>http://images.amazon.com/images/P/034545104X.0...</td>\n",
       "    </tr>\n",
       "  </tbody>\n",
       "</table>\n",
       "</div>"
      ],
      "text/plain": [
       "   User-ID        ISBN  Book-Rating            Book-Title Book-Author  \\\n",
       "0   276725  034545104X            0  Flesh Tones: A Novel  M. J. Rose   \n",
       "1     2313  034545104X            5  Flesh Tones: A Novel  M. J. Rose   \n",
       "2     6543  034545104X            0  Flesh Tones: A Novel  M. J. Rose   \n",
       "3     8680  034545104X            5  Flesh Tones: A Novel  M. J. Rose   \n",
       "4    10314  034545104X            9  Flesh Tones: A Novel  M. J. Rose   \n",
       "\n",
       "  Year-Of-Publication         Publisher  \\\n",
       "0                2002  Ballantine Books   \n",
       "1                2002  Ballantine Books   \n",
       "2                2002  Ballantine Books   \n",
       "3                2002  Ballantine Books   \n",
       "4                2002  Ballantine Books   \n",
       "\n",
       "                                         Image-URL-S  \\\n",
       "0  http://images.amazon.com/images/P/034545104X.0...   \n",
       "1  http://images.amazon.com/images/P/034545104X.0...   \n",
       "2  http://images.amazon.com/images/P/034545104X.0...   \n",
       "3  http://images.amazon.com/images/P/034545104X.0...   \n",
       "4  http://images.amazon.com/images/P/034545104X.0...   \n",
       "\n",
       "                                         Image-URL-M  \\\n",
       "0  http://images.amazon.com/images/P/034545104X.0...   \n",
       "1  http://images.amazon.com/images/P/034545104X.0...   \n",
       "2  http://images.amazon.com/images/P/034545104X.0...   \n",
       "3  http://images.amazon.com/images/P/034545104X.0...   \n",
       "4  http://images.amazon.com/images/P/034545104X.0...   \n",
       "\n",
       "                                         Image-URL-L  \n",
       "0  http://images.amazon.com/images/P/034545104X.0...  \n",
       "1  http://images.amazon.com/images/P/034545104X.0...  \n",
       "2  http://images.amazon.com/images/P/034545104X.0...  \n",
       "3  http://images.amazon.com/images/P/034545104X.0...  \n",
       "4  http://images.amazon.com/images/P/034545104X.0...  "
      ]
     },
     "execution_count": 124,
     "metadata": {},
     "output_type": "execute_result"
    }
   ],
   "source": [
    "ratings_with_name.head()"
   ]
  },
  {
   "cell_type": "code",
   "execution_count": 125,
   "id": "1cbc33d3",
   "metadata": {},
   "outputs": [
    {
     "data": {
      "text/html": [
       "<div>\n",
       "<style scoped>\n",
       "    .dataframe tbody tr th:only-of-type {\n",
       "        vertical-align: middle;\n",
       "    }\n",
       "\n",
       "    .dataframe tbody tr th {\n",
       "        vertical-align: top;\n",
       "    }\n",
       "\n",
       "    .dataframe thead th {\n",
       "        text-align: right;\n",
       "    }\n",
       "</style>\n",
       "<table border=\"1\" class=\"dataframe\">\n",
       "  <thead>\n",
       "    <tr style=\"text-align: right;\">\n",
       "      <th></th>\n",
       "      <th>Book-Title</th>\n",
       "      <th>Num_Ratings</th>\n",
       "    </tr>\n",
       "  </thead>\n",
       "  <tbody>\n",
       "    <tr>\n",
       "      <th>0</th>\n",
       "      <td>A Light in the Storm: The Civil War Diary of ...</td>\n",
       "      <td>4</td>\n",
       "    </tr>\n",
       "    <tr>\n",
       "      <th>1</th>\n",
       "      <td>Always Have Popsicles</td>\n",
       "      <td>1</td>\n",
       "    </tr>\n",
       "    <tr>\n",
       "      <th>2</th>\n",
       "      <td>Apple Magic (The Collector's series)</td>\n",
       "      <td>1</td>\n",
       "    </tr>\n",
       "    <tr>\n",
       "      <th>3</th>\n",
       "      <td>Ask Lily (Young Women of Faith: Lily Series, ...</td>\n",
       "      <td>1</td>\n",
       "    </tr>\n",
       "    <tr>\n",
       "      <th>4</th>\n",
       "      <td>Beyond IBM: Leadership Marketing and Finance ...</td>\n",
       "      <td>1</td>\n",
       "    </tr>\n",
       "  </tbody>\n",
       "</table>\n",
       "</div>"
      ],
      "text/plain": [
       "                                          Book-Title  Num_Ratings\n",
       "0   A Light in the Storm: The Civil War Diary of ...            4\n",
       "1                              Always Have Popsicles            1\n",
       "2               Apple Magic (The Collector's series)            1\n",
       "3   Ask Lily (Young Women of Faith: Lily Series, ...            1\n",
       "4   Beyond IBM: Leadership Marketing and Finance ...            1"
      ]
     },
     "execution_count": 125,
     "metadata": {},
     "output_type": "execute_result"
    }
   ],
   "source": [
    "# Number of Ratings per Book\n",
    "\n",
    "num_rating_df = ratings_with_name.groupby('Book-Title').count()['Book-Rating'].reset_index()\n",
    "\n",
    "num_rating_df.rename(columns={'Book-Rating':'Num_Ratings'}, inplace=True)\n",
    "\n",
    "num_rating_df.head()"
   ]
  },
  {
   "cell_type": "code",
   "execution_count": 126,
   "id": "d1fe7438",
   "metadata": {},
   "outputs": [
    {
     "data": {
      "text/html": [
       "<div>\n",
       "<style scoped>\n",
       "    .dataframe tbody tr th:only-of-type {\n",
       "        vertical-align: middle;\n",
       "    }\n",
       "\n",
       "    .dataframe tbody tr th {\n",
       "        vertical-align: top;\n",
       "    }\n",
       "\n",
       "    .dataframe thead th {\n",
       "        text-align: right;\n",
       "    }\n",
       "</style>\n",
       "<table border=\"1\" class=\"dataframe\">\n",
       "  <thead>\n",
       "    <tr style=\"text-align: right;\">\n",
       "      <th></th>\n",
       "      <th>Avg_Ratings</th>\n",
       "    </tr>\n",
       "    <tr>\n",
       "      <th>Book-Title</th>\n",
       "      <th></th>\n",
       "    </tr>\n",
       "  </thead>\n",
       "  <tbody>\n",
       "    <tr>\n",
       "      <th>A Light in the Storm: The Civil War Diary of Amelia Martin, Fenwick Island, Delaware, 1861 (Dear America)</th>\n",
       "      <td>2.25</td>\n",
       "    </tr>\n",
       "    <tr>\n",
       "      <th>Always Have Popsicles</th>\n",
       "      <td>0.00</td>\n",
       "    </tr>\n",
       "    <tr>\n",
       "      <th>Apple Magic (The Collector's series)</th>\n",
       "      <td>0.00</td>\n",
       "    </tr>\n",
       "    <tr>\n",
       "      <th>Ask Lily (Young Women of Faith: Lily Series, Book 5)</th>\n",
       "      <td>8.00</td>\n",
       "    </tr>\n",
       "    <tr>\n",
       "      <th>Beyond IBM: Leadership Marketing and Finance for the 1990s</th>\n",
       "      <td>0.00</td>\n",
       "    </tr>\n",
       "  </tbody>\n",
       "</table>\n",
       "</div>"
      ],
      "text/plain": [
       "                                                    Avg_Ratings\n",
       "Book-Title                                                     \n",
       " A Light in the Storm: The Civil War Diary of A...         2.25\n",
       " Always Have Popsicles                                     0.00\n",
       " Apple Magic (The Collector's series)                      0.00\n",
       " Ask Lily (Young Women of Faith: Lily Series, B...         8.00\n",
       " Beyond IBM: Leadership Marketing and Finance f...         0.00"
      ]
     },
     "execution_count": 126,
     "metadata": {},
     "output_type": "execute_result"
    }
   ],
   "source": [
    "# Average Rating per Book\n",
    "\n",
    "avg_rating_df = ratings_with_name.groupby('Book-Title')['Book-Rating'].mean().to_frame()\n",
    "\n",
    "avg_rating_df.rename(columns={'Book-Rating':'Avg_Ratings'}, inplace=True)\n",
    "\n",
    "avg_rating_df.head()"
   ]
  },
  {
   "cell_type": "code",
   "execution_count": 127,
   "id": "7ee848a4",
   "metadata": {},
   "outputs": [
    {
     "data": {
      "text/html": [
       "<div>\n",
       "<style scoped>\n",
       "    .dataframe tbody tr th:only-of-type {\n",
       "        vertical-align: middle;\n",
       "    }\n",
       "\n",
       "    .dataframe tbody tr th {\n",
       "        vertical-align: top;\n",
       "    }\n",
       "\n",
       "    .dataframe thead th {\n",
       "        text-align: right;\n",
       "    }\n",
       "</style>\n",
       "<table border=\"1\" class=\"dataframe\">\n",
       "  <thead>\n",
       "    <tr style=\"text-align: right;\">\n",
       "      <th></th>\n",
       "      <th>Book-Title</th>\n",
       "      <th>Num_Ratings</th>\n",
       "      <th>Avg_Ratings</th>\n",
       "    </tr>\n",
       "  </thead>\n",
       "  <tbody>\n",
       "    <tr>\n",
       "      <th>0</th>\n",
       "      <td>A Light in the Storm: The Civil War Diary of ...</td>\n",
       "      <td>4</td>\n",
       "      <td>2.25</td>\n",
       "    </tr>\n",
       "    <tr>\n",
       "      <th>1</th>\n",
       "      <td>Always Have Popsicles</td>\n",
       "      <td>1</td>\n",
       "      <td>0.00</td>\n",
       "    </tr>\n",
       "    <tr>\n",
       "      <th>2</th>\n",
       "      <td>Apple Magic (The Collector's series)</td>\n",
       "      <td>1</td>\n",
       "      <td>0.00</td>\n",
       "    </tr>\n",
       "    <tr>\n",
       "      <th>3</th>\n",
       "      <td>Ask Lily (Young Women of Faith: Lily Series, ...</td>\n",
       "      <td>1</td>\n",
       "      <td>8.00</td>\n",
       "    </tr>\n",
       "    <tr>\n",
       "      <th>4</th>\n",
       "      <td>Beyond IBM: Leadership Marketing and Finance ...</td>\n",
       "      <td>1</td>\n",
       "      <td>0.00</td>\n",
       "    </tr>\n",
       "  </tbody>\n",
       "</table>\n",
       "</div>"
      ],
      "text/plain": [
       "                                          Book-Title  Num_Ratings  Avg_Ratings\n",
       "0   A Light in the Storm: The Civil War Diary of ...            4         2.25\n",
       "1                              Always Have Popsicles            1         0.00\n",
       "2               Apple Magic (The Collector's series)            1         0.00\n",
       "3   Ask Lily (Young Women of Faith: Lily Series, ...            1         8.00\n",
       "4   Beyond IBM: Leadership Marketing and Finance ...            1         0.00"
      ]
     },
     "execution_count": 127,
     "metadata": {},
     "output_type": "execute_result"
    }
   ],
   "source": [
    "# Merge both of them into a single Dataframe\n",
    "\n",
    "popular_df = num_rating_df.merge(avg_rating_df,on='Book-Title')\n",
    "\n",
    "popular_df.head()"
   ]
  },
  {
   "cell_type": "code",
   "execution_count": 128,
   "id": "3124ad18",
   "metadata": {},
   "outputs": [],
   "source": [
    "# Merging with the main books dataframe to have all related data\n",
    "\n",
    "popular_df = popular_df.merge(books,on='Book-Title').drop_duplicates('Book-Title')[['Book-Title','Book-Author','Image-URL-S','Image-URL-M','Image-URL-L','Num_Ratings','Avg_Ratings']]"
   ]
  },
  {
   "cell_type": "code",
   "execution_count": 129,
   "id": "2e1ec7b6",
   "metadata": {},
   "outputs": [
    {
     "data": {
      "text/html": [
       "<div>\n",
       "<style scoped>\n",
       "    .dataframe tbody tr th:only-of-type {\n",
       "        vertical-align: middle;\n",
       "    }\n",
       "\n",
       "    .dataframe tbody tr th {\n",
       "        vertical-align: top;\n",
       "    }\n",
       "\n",
       "    .dataframe thead th {\n",
       "        text-align: right;\n",
       "    }\n",
       "</style>\n",
       "<table border=\"1\" class=\"dataframe\">\n",
       "  <thead>\n",
       "    <tr style=\"text-align: right;\">\n",
       "      <th></th>\n",
       "      <th>Book-Title</th>\n",
       "      <th>Book-Author</th>\n",
       "      <th>Image-URL-S</th>\n",
       "      <th>Image-URL-M</th>\n",
       "      <th>Image-URL-L</th>\n",
       "      <th>Num_Ratings</th>\n",
       "      <th>Avg_Ratings</th>\n",
       "    </tr>\n",
       "  </thead>\n",
       "  <tbody>\n",
       "    <tr>\n",
       "      <th>0</th>\n",
       "      <td>A Light in the Storm: The Civil War Diary of ...</td>\n",
       "      <td>Karen Hesse</td>\n",
       "      <td>http://images.amazon.com/images/P/0590567330.0...</td>\n",
       "      <td>http://images.amazon.com/images/P/0590567330.0...</td>\n",
       "      <td>http://images.amazon.com/images/P/0590567330.0...</td>\n",
       "      <td>4</td>\n",
       "      <td>2.25</td>\n",
       "    </tr>\n",
       "    <tr>\n",
       "      <th>1</th>\n",
       "      <td>Always Have Popsicles</td>\n",
       "      <td>Rebecca Harvin</td>\n",
       "      <td>http://images.amazon.com/images/P/0964147726.0...</td>\n",
       "      <td>http://images.amazon.com/images/P/0964147726.0...</td>\n",
       "      <td>http://images.amazon.com/images/P/0964147726.0...</td>\n",
       "      <td>1</td>\n",
       "      <td>0.00</td>\n",
       "    </tr>\n",
       "    <tr>\n",
       "      <th>2</th>\n",
       "      <td>Apple Magic (The Collector's series)</td>\n",
       "      <td>Martina Boudreau</td>\n",
       "      <td>http://images.amazon.com/images/P/0942320093.0...</td>\n",
       "      <td>http://images.amazon.com/images/P/0942320093.0...</td>\n",
       "      <td>http://images.amazon.com/images/P/0942320093.0...</td>\n",
       "      <td>1</td>\n",
       "      <td>0.00</td>\n",
       "    </tr>\n",
       "    <tr>\n",
       "      <th>3</th>\n",
       "      <td>Ask Lily (Young Women of Faith: Lily Series, ...</td>\n",
       "      <td>Nancy N. Rue</td>\n",
       "      <td>http://images.amazon.com/images/P/0310232546.0...</td>\n",
       "      <td>http://images.amazon.com/images/P/0310232546.0...</td>\n",
       "      <td>http://images.amazon.com/images/P/0310232546.0...</td>\n",
       "      <td>1</td>\n",
       "      <td>8.00</td>\n",
       "    </tr>\n",
       "    <tr>\n",
       "      <th>4</th>\n",
       "      <td>Beyond IBM: Leadership Marketing and Finance ...</td>\n",
       "      <td>Lou Mobley</td>\n",
       "      <td>http://images.amazon.com/images/P/0962295701.0...</td>\n",
       "      <td>http://images.amazon.com/images/P/0962295701.0...</td>\n",
       "      <td>http://images.amazon.com/images/P/0962295701.0...</td>\n",
       "      <td>1</td>\n",
       "      <td>0.00</td>\n",
       "    </tr>\n",
       "    <tr>\n",
       "      <th>5</th>\n",
       "      <td>Clifford Visita El Hospital (Clifford El Gran...</td>\n",
       "      <td>Norman Bridwell</td>\n",
       "      <td>http://images.amazon.com/images/P/0439188970.0...</td>\n",
       "      <td>http://images.amazon.com/images/P/0439188970.0...</td>\n",
       "      <td>http://images.amazon.com/images/P/0439188970.0...</td>\n",
       "      <td>1</td>\n",
       "      <td>0.00</td>\n",
       "    </tr>\n",
       "    <tr>\n",
       "      <th>6</th>\n",
       "      <td>Dark Justice</td>\n",
       "      <td>Jack Higgins</td>\n",
       "      <td>http://images.amazon.com/images/P/0399151788.0...</td>\n",
       "      <td>http://images.amazon.com/images/P/0399151788.0...</td>\n",
       "      <td>http://images.amazon.com/images/P/0399151788.0...</td>\n",
       "      <td>1</td>\n",
       "      <td>10.00</td>\n",
       "    </tr>\n",
       "    <tr>\n",
       "      <th>7</th>\n",
       "      <td>Deceived</td>\n",
       "      <td>Carla Simpson</td>\n",
       "      <td>http://images.amazon.com/images/P/0786000015.0...</td>\n",
       "      <td>http://images.amazon.com/images/P/0786000015.0...</td>\n",
       "      <td>http://images.amazon.com/images/P/0786000015.0...</td>\n",
       "      <td>2</td>\n",
       "      <td>0.00</td>\n",
       "    </tr>\n",
       "    <tr>\n",
       "      <th>8</th>\n",
       "      <td>Earth Prayers From around the World: 365 Pray...</td>\n",
       "      <td>Elizabeth Roberts</td>\n",
       "      <td>http://images.amazon.com/images/P/006250746X.0...</td>\n",
       "      <td>http://images.amazon.com/images/P/006250746X.0...</td>\n",
       "      <td>http://images.amazon.com/images/P/006250746X.0...</td>\n",
       "      <td>10</td>\n",
       "      <td>5.00</td>\n",
       "    </tr>\n",
       "    <tr>\n",
       "      <th>9</th>\n",
       "      <td>Final Fantasy Anthology: Official Strategy Gu...</td>\n",
       "      <td>David Cassady</td>\n",
       "      <td>http://images.amazon.com/images/P/1566869250.0...</td>\n",
       "      <td>http://images.amazon.com/images/P/1566869250.0...</td>\n",
       "      <td>http://images.amazon.com/images/P/1566869250.0...</td>\n",
       "      <td>4</td>\n",
       "      <td>5.00</td>\n",
       "    </tr>\n",
       "  </tbody>\n",
       "</table>\n",
       "</div>"
      ],
      "text/plain": [
       "                                          Book-Title        Book-Author  \\\n",
       "0   A Light in the Storm: The Civil War Diary of ...        Karen Hesse   \n",
       "1                              Always Have Popsicles     Rebecca Harvin   \n",
       "2               Apple Magic (The Collector's series)   Martina Boudreau   \n",
       "3   Ask Lily (Young Women of Faith: Lily Series, ...       Nancy N. Rue   \n",
       "4   Beyond IBM: Leadership Marketing and Finance ...         Lou Mobley   \n",
       "5   Clifford Visita El Hospital (Clifford El Gran...    Norman Bridwell   \n",
       "6                                       Dark Justice       Jack Higgins   \n",
       "7                                           Deceived      Carla Simpson   \n",
       "8   Earth Prayers From around the World: 365 Pray...  Elizabeth Roberts   \n",
       "9   Final Fantasy Anthology: Official Strategy Gu...      David Cassady   \n",
       "\n",
       "                                         Image-URL-S  \\\n",
       "0  http://images.amazon.com/images/P/0590567330.0...   \n",
       "1  http://images.amazon.com/images/P/0964147726.0...   \n",
       "2  http://images.amazon.com/images/P/0942320093.0...   \n",
       "3  http://images.amazon.com/images/P/0310232546.0...   \n",
       "4  http://images.amazon.com/images/P/0962295701.0...   \n",
       "5  http://images.amazon.com/images/P/0439188970.0...   \n",
       "6  http://images.amazon.com/images/P/0399151788.0...   \n",
       "7  http://images.amazon.com/images/P/0786000015.0...   \n",
       "8  http://images.amazon.com/images/P/006250746X.0...   \n",
       "9  http://images.amazon.com/images/P/1566869250.0...   \n",
       "\n",
       "                                         Image-URL-M  \\\n",
       "0  http://images.amazon.com/images/P/0590567330.0...   \n",
       "1  http://images.amazon.com/images/P/0964147726.0...   \n",
       "2  http://images.amazon.com/images/P/0942320093.0...   \n",
       "3  http://images.amazon.com/images/P/0310232546.0...   \n",
       "4  http://images.amazon.com/images/P/0962295701.0...   \n",
       "5  http://images.amazon.com/images/P/0439188970.0...   \n",
       "6  http://images.amazon.com/images/P/0399151788.0...   \n",
       "7  http://images.amazon.com/images/P/0786000015.0...   \n",
       "8  http://images.amazon.com/images/P/006250746X.0...   \n",
       "9  http://images.amazon.com/images/P/1566869250.0...   \n",
       "\n",
       "                                         Image-URL-L  Num_Ratings  Avg_Ratings  \n",
       "0  http://images.amazon.com/images/P/0590567330.0...            4         2.25  \n",
       "1  http://images.amazon.com/images/P/0964147726.0...            1         0.00  \n",
       "2  http://images.amazon.com/images/P/0942320093.0...            1         0.00  \n",
       "3  http://images.amazon.com/images/P/0310232546.0...            1         8.00  \n",
       "4  http://images.amazon.com/images/P/0962295701.0...            1         0.00  \n",
       "5  http://images.amazon.com/images/P/0439188970.0...            1         0.00  \n",
       "6  http://images.amazon.com/images/P/0399151788.0...            1        10.00  \n",
       "7  http://images.amazon.com/images/P/0786000015.0...            2         0.00  \n",
       "8  http://images.amazon.com/images/P/006250746X.0...           10         5.00  \n",
       "9  http://images.amazon.com/images/P/1566869250.0...            4         5.00  "
      ]
     },
     "execution_count": 129,
     "metadata": {},
     "output_type": "execute_result"
    }
   ],
   "source": [
    "popular_df.head(10)"
   ]
  },
  {
   "cell_type": "code",
   "execution_count": 130,
   "id": "d5f286e1",
   "metadata": {},
   "outputs": [],
   "source": [
    "popular_df = popular_df[popular_df['Num_Ratings']>=250].sort_values('Avg_Ratings',ascending=False)"
   ]
  },
  {
   "cell_type": "code",
   "execution_count": 131,
   "id": "6adaa356",
   "metadata": {},
   "outputs": [
    {
     "data": {
      "text/html": [
       "<div>\n",
       "<style scoped>\n",
       "    .dataframe tbody tr th:only-of-type {\n",
       "        vertical-align: middle;\n",
       "    }\n",
       "\n",
       "    .dataframe tbody tr th {\n",
       "        vertical-align: top;\n",
       "    }\n",
       "\n",
       "    .dataframe thead th {\n",
       "        text-align: right;\n",
       "    }\n",
       "</style>\n",
       "<table border=\"1\" class=\"dataframe\">\n",
       "  <thead>\n",
       "    <tr style=\"text-align: right;\">\n",
       "      <th></th>\n",
       "      <th>Book-Title</th>\n",
       "      <th>Book-Author</th>\n",
       "      <th>Image-URL-S</th>\n",
       "      <th>Image-URL-M</th>\n",
       "      <th>Image-URL-L</th>\n",
       "      <th>Num_Ratings</th>\n",
       "      <th>Avg_Ratings</th>\n",
       "    </tr>\n",
       "  </thead>\n",
       "  <tbody>\n",
       "    <tr>\n",
       "      <th>89972</th>\n",
       "      <td>Harry Potter and the Prisoner of Azkaban (Book 3)</td>\n",
       "      <td>J. K. Rowling</td>\n",
       "      <td>http://images.amazon.com/images/P/0439136350.0...</td>\n",
       "      <td>http://images.amazon.com/images/P/0439136350.0...</td>\n",
       "      <td>http://images.amazon.com/images/P/0439136350.0...</td>\n",
       "      <td>428</td>\n",
       "      <td>5.852804</td>\n",
       "    </tr>\n",
       "    <tr>\n",
       "      <th>89954</th>\n",
       "      <td>Harry Potter and the Goblet of Fire (Book 4)</td>\n",
       "      <td>J. K. Rowling</td>\n",
       "      <td>http://images.amazon.com/images/P/0439139597.0...</td>\n",
       "      <td>http://images.amazon.com/images/P/0439139597.0...</td>\n",
       "      <td>http://images.amazon.com/images/P/0439139597.0...</td>\n",
       "      <td>387</td>\n",
       "      <td>5.824289</td>\n",
       "    </tr>\n",
       "    <tr>\n",
       "      <th>89982</th>\n",
       "      <td>Harry Potter and the Sorcerer's Stone (Book 1)</td>\n",
       "      <td>J. K. Rowling</td>\n",
       "      <td>http://images.amazon.com/images/P/0590353403.0...</td>\n",
       "      <td>http://images.amazon.com/images/P/0590353403.0...</td>\n",
       "      <td>http://images.amazon.com/images/P/0590353403.0...</td>\n",
       "      <td>278</td>\n",
       "      <td>5.737410</td>\n",
       "    </tr>\n",
       "    <tr>\n",
       "      <th>89959</th>\n",
       "      <td>Harry Potter and the Order of the Phoenix (Boo...</td>\n",
       "      <td>J. K. Rowling</td>\n",
       "      <td>http://images.amazon.com/images/P/043935806X.0...</td>\n",
       "      <td>http://images.amazon.com/images/P/043935806X.0...</td>\n",
       "      <td>http://images.amazon.com/images/P/043935806X.0...</td>\n",
       "      <td>347</td>\n",
       "      <td>5.501441</td>\n",
       "    </tr>\n",
       "    <tr>\n",
       "      <th>89944</th>\n",
       "      <td>Harry Potter and the Chamber of Secrets (Book 2)</td>\n",
       "      <td>J. K. Rowling</td>\n",
       "      <td>http://images.amazon.com/images/P/0439064872.0...</td>\n",
       "      <td>http://images.amazon.com/images/P/0439064872.0...</td>\n",
       "      <td>http://images.amazon.com/images/P/0439064872.0...</td>\n",
       "      <td>556</td>\n",
       "      <td>5.183453</td>\n",
       "    </tr>\n",
       "    <tr>\n",
       "      <th>214749</th>\n",
       "      <td>The Hobbit : The Enchanting Prelude to The Lor...</td>\n",
       "      <td>J.R.R. TOLKIEN</td>\n",
       "      <td>http://images.amazon.com/images/P/0345339681.0...</td>\n",
       "      <td>http://images.amazon.com/images/P/0345339681.0...</td>\n",
       "      <td>http://images.amazon.com/images/P/0345339681.0...</td>\n",
       "      <td>281</td>\n",
       "      <td>5.007117</td>\n",
       "    </tr>\n",
       "    <tr>\n",
       "      <th>209880</th>\n",
       "      <td>The Fellowship of the Ring (The Lord of the Ri...</td>\n",
       "      <td>J.R.R. TOLKIEN</td>\n",
       "      <td>http://images.amazon.com/images/P/0345339703.0...</td>\n",
       "      <td>http://images.amazon.com/images/P/0345339703.0...</td>\n",
       "      <td>http://images.amazon.com/images/P/0345339703.0...</td>\n",
       "      <td>368</td>\n",
       "      <td>4.948370</td>\n",
       "    </tr>\n",
       "    <tr>\n",
       "      <th>89989</th>\n",
       "      <td>Harry Potter and the Sorcerer's Stone (Harry P...</td>\n",
       "      <td>J. K. Rowling</td>\n",
       "      <td>http://images.amazon.com/images/P/059035342X.0...</td>\n",
       "      <td>http://images.amazon.com/images/P/059035342X.0...</td>\n",
       "      <td>http://images.amazon.com/images/P/059035342X.0...</td>\n",
       "      <td>575</td>\n",
       "      <td>4.895652</td>\n",
       "    </tr>\n",
       "    <tr>\n",
       "      <th>237361</th>\n",
       "      <td>The Two Towers (The Lord of the Rings, Part 2)</td>\n",
       "      <td>J.R.R. TOLKIEN</td>\n",
       "      <td>http://images.amazon.com/images/P/0345339711.0...</td>\n",
       "      <td>http://images.amazon.com/images/P/0345339711.0...</td>\n",
       "      <td>http://images.amazon.com/images/P/0345339711.0...</td>\n",
       "      <td>260</td>\n",
       "      <td>4.880769</td>\n",
       "    </tr>\n",
       "    <tr>\n",
       "      <th>246689</th>\n",
       "      <td>To Kill a Mockingbird</td>\n",
       "      <td>Harper Lee</td>\n",
       "      <td>http://images.amazon.com/images/P/0446310786.0...</td>\n",
       "      <td>http://images.amazon.com/images/P/0446310786.0...</td>\n",
       "      <td>http://images.amazon.com/images/P/0446310786.0...</td>\n",
       "      <td>510</td>\n",
       "      <td>4.700000</td>\n",
       "    </tr>\n",
       "  </tbody>\n",
       "</table>\n",
       "</div>"
      ],
      "text/plain": [
       "                                               Book-Title     Book-Author  \\\n",
       "89972   Harry Potter and the Prisoner of Azkaban (Book 3)   J. K. Rowling   \n",
       "89954        Harry Potter and the Goblet of Fire (Book 4)   J. K. Rowling   \n",
       "89982      Harry Potter and the Sorcerer's Stone (Book 1)   J. K. Rowling   \n",
       "89959   Harry Potter and the Order of the Phoenix (Boo...   J. K. Rowling   \n",
       "89944    Harry Potter and the Chamber of Secrets (Book 2)   J. K. Rowling   \n",
       "214749  The Hobbit : The Enchanting Prelude to The Lor...  J.R.R. TOLKIEN   \n",
       "209880  The Fellowship of the Ring (The Lord of the Ri...  J.R.R. TOLKIEN   \n",
       "89989   Harry Potter and the Sorcerer's Stone (Harry P...   J. K. Rowling   \n",
       "237361     The Two Towers (The Lord of the Rings, Part 2)  J.R.R. TOLKIEN   \n",
       "246689                              To Kill a Mockingbird      Harper Lee   \n",
       "\n",
       "                                              Image-URL-S  \\\n",
       "89972   http://images.amazon.com/images/P/0439136350.0...   \n",
       "89954   http://images.amazon.com/images/P/0439139597.0...   \n",
       "89982   http://images.amazon.com/images/P/0590353403.0...   \n",
       "89959   http://images.amazon.com/images/P/043935806X.0...   \n",
       "89944   http://images.amazon.com/images/P/0439064872.0...   \n",
       "214749  http://images.amazon.com/images/P/0345339681.0...   \n",
       "209880  http://images.amazon.com/images/P/0345339703.0...   \n",
       "89989   http://images.amazon.com/images/P/059035342X.0...   \n",
       "237361  http://images.amazon.com/images/P/0345339711.0...   \n",
       "246689  http://images.amazon.com/images/P/0446310786.0...   \n",
       "\n",
       "                                              Image-URL-M  \\\n",
       "89972   http://images.amazon.com/images/P/0439136350.0...   \n",
       "89954   http://images.amazon.com/images/P/0439139597.0...   \n",
       "89982   http://images.amazon.com/images/P/0590353403.0...   \n",
       "89959   http://images.amazon.com/images/P/043935806X.0...   \n",
       "89944   http://images.amazon.com/images/P/0439064872.0...   \n",
       "214749  http://images.amazon.com/images/P/0345339681.0...   \n",
       "209880  http://images.amazon.com/images/P/0345339703.0...   \n",
       "89989   http://images.amazon.com/images/P/059035342X.0...   \n",
       "237361  http://images.amazon.com/images/P/0345339711.0...   \n",
       "246689  http://images.amazon.com/images/P/0446310786.0...   \n",
       "\n",
       "                                              Image-URL-L  Num_Ratings  \\\n",
       "89972   http://images.amazon.com/images/P/0439136350.0...          428   \n",
       "89954   http://images.amazon.com/images/P/0439139597.0...          387   \n",
       "89982   http://images.amazon.com/images/P/0590353403.0...          278   \n",
       "89959   http://images.amazon.com/images/P/043935806X.0...          347   \n",
       "89944   http://images.amazon.com/images/P/0439064872.0...          556   \n",
       "214749  http://images.amazon.com/images/P/0345339681.0...          281   \n",
       "209880  http://images.amazon.com/images/P/0345339703.0...          368   \n",
       "89989   http://images.amazon.com/images/P/059035342X.0...          575   \n",
       "237361  http://images.amazon.com/images/P/0345339711.0...          260   \n",
       "246689  http://images.amazon.com/images/P/0446310786.0...          510   \n",
       "\n",
       "        Avg_Ratings  \n",
       "89972      5.852804  \n",
       "89954      5.824289  \n",
       "89982      5.737410  \n",
       "89959      5.501441  \n",
       "89944      5.183453  \n",
       "214749     5.007117  \n",
       "209880     4.948370  \n",
       "89989      4.895652  \n",
       "237361     4.880769  \n",
       "246689     4.700000  "
      ]
     },
     "execution_count": 131,
     "metadata": {},
     "output_type": "execute_result"
    }
   ],
   "source": [
    "popular_df.head(10)"
   ]
  },
  {
   "cell_type": "code",
   "execution_count": 133,
   "id": "c1701e59",
   "metadata": {},
   "outputs": [
    {
     "name": "stdout",
     "output_type": "stream",
     "text": [
      "[{'Book-Title': 'Harry Potter and the Prisoner of Azkaban (Book 3)', 'Book-Author': 'J. K. Rowling', 'Image-URL-S': 'http://images.amazon.com/images/P/0439136350.01.THUMBZZZ.jpg', 'Image-URL-M': 'http://images.amazon.com/images/P/0439136350.01.MZZZZZZZ.jpg', 'Image-URL-L': 'http://images.amazon.com/images/P/0439136350.01.LZZZZZZZ.jpg', 'Num_Ratings': 428, 'Avg_Ratings': 5.852803738317757}, {'Book-Title': 'Harry Potter and the Goblet of Fire (Book 4)', 'Book-Author': 'J. K. Rowling', 'Image-URL-S': 'http://images.amazon.com/images/P/0439139597.01.THUMBZZZ.jpg', 'Image-URL-M': 'http://images.amazon.com/images/P/0439139597.01.MZZZZZZZ.jpg', 'Image-URL-L': 'http://images.amazon.com/images/P/0439139597.01.LZZZZZZZ.jpg', 'Num_Ratings': 387, 'Avg_Ratings': 5.8242894056847545}, {'Book-Title': \"Harry Potter and the Sorcerer's Stone (Book 1)\", 'Book-Author': 'J. K. Rowling', 'Image-URL-S': 'http://images.amazon.com/images/P/0590353403.01.THUMBZZZ.jpg', 'Image-URL-M': 'http://images.amazon.com/images/P/0590353403.01.MZZZZZZZ.jpg', 'Image-URL-L': 'http://images.amazon.com/images/P/0590353403.01.LZZZZZZZ.jpg', 'Num_Ratings': 278, 'Avg_Ratings': 5.737410071942446}, {'Book-Title': 'Harry Potter and the Order of the Phoenix (Book 5)', 'Book-Author': 'J. K. Rowling', 'Image-URL-S': 'http://images.amazon.com/images/P/043935806X.01.THUMBZZZ.jpg', 'Image-URL-M': 'http://images.amazon.com/images/P/043935806X.01.MZZZZZZZ.jpg', 'Image-URL-L': 'http://images.amazon.com/images/P/043935806X.01.LZZZZZZZ.jpg', 'Num_Ratings': 347, 'Avg_Ratings': 5.501440922190202}, {'Book-Title': 'Harry Potter and the Chamber of Secrets (Book 2)', 'Book-Author': 'J. K. Rowling', 'Image-URL-S': 'http://images.amazon.com/images/P/0439064872.01.THUMBZZZ.jpg', 'Image-URL-M': 'http://images.amazon.com/images/P/0439064872.01.MZZZZZZZ.jpg', 'Image-URL-L': 'http://images.amazon.com/images/P/0439064872.01.LZZZZZZZ.jpg', 'Num_Ratings': 556, 'Avg_Ratings': 5.183453237410072}, {'Book-Title': 'The Hobbit : The Enchanting Prelude to The Lord of the Rings', 'Book-Author': 'J.R.R. TOLKIEN', 'Image-URL-S': 'http://images.amazon.com/images/P/0345339681.01.THUMBZZZ.jpg', 'Image-URL-M': 'http://images.amazon.com/images/P/0345339681.01.MZZZZZZZ.jpg', 'Image-URL-L': 'http://images.amazon.com/images/P/0345339681.01.LZZZZZZZ.jpg', 'Num_Ratings': 281, 'Avg_Ratings': 5.00711743772242}, {'Book-Title': 'The Fellowship of the Ring (The Lord of the Rings, Part 1)', 'Book-Author': 'J.R.R. TOLKIEN', 'Image-URL-S': 'http://images.amazon.com/images/P/0345339703.01.THUMBZZZ.jpg', 'Image-URL-M': 'http://images.amazon.com/images/P/0345339703.01.MZZZZZZZ.jpg', 'Image-URL-L': 'http://images.amazon.com/images/P/0345339703.01.LZZZZZZZ.jpg', 'Num_Ratings': 368, 'Avg_Ratings': 4.948369565217392}, {'Book-Title': \"Harry Potter and the Sorcerer's Stone (Harry Potter (Paperback))\", 'Book-Author': 'J. K. Rowling', 'Image-URL-S': 'http://images.amazon.com/images/P/059035342X.01.THUMBZZZ.jpg', 'Image-URL-M': 'http://images.amazon.com/images/P/059035342X.01.MZZZZZZZ.jpg', 'Image-URL-L': 'http://images.amazon.com/images/P/059035342X.01.LZZZZZZZ.jpg', 'Num_Ratings': 575, 'Avg_Ratings': 4.895652173913043}, {'Book-Title': 'The Two Towers (The Lord of the Rings, Part 2)', 'Book-Author': 'J.R.R. TOLKIEN', 'Image-URL-S': 'http://images.amazon.com/images/P/0345339711.01.THUMBZZZ.jpg', 'Image-URL-M': 'http://images.amazon.com/images/P/0345339711.01.MZZZZZZZ.jpg', 'Image-URL-L': 'http://images.amazon.com/images/P/0345339711.01.LZZZZZZZ.jpg', 'Num_Ratings': 260, 'Avg_Ratings': 4.880769230769231}, {'Book-Title': 'To Kill a Mockingbird', 'Book-Author': 'Harper Lee', 'Image-URL-S': 'http://images.amazon.com/images/P/0446310786.01.THUMBZZZ.jpg', 'Image-URL-M': 'http://images.amazon.com/images/P/0446310786.01.MZZZZZZZ.jpg', 'Image-URL-L': 'http://images.amazon.com/images/P/0446310786.01.LZZZZZZZ.jpg', 'Num_Ratings': 510, 'Avg_Ratings': 4.7}, {'Book-Title': 'The Da Vinci Code', 'Book-Author': 'Dan Brown', 'Image-URL-S': 'http://images.amazon.com/images/P/0385504209.01.THUMBZZZ.jpg', 'Image-URL-M': 'http://images.amazon.com/images/P/0385504209.01.MZZZZZZZ.jpg', 'Image-URL-L': 'http://images.amazon.com/images/P/0385504209.01.LZZZZZZZ.jpg', 'Num_Ratings': 898, 'Avg_Ratings': 4.642538975501114}, {'Book-Title': 'The Five People You Meet in Heaven', 'Book-Author': 'Mitch Albom', 'Image-URL-S': 'http://images.amazon.com/images/P/0786868716.01.THUMBZZZ.jpg', 'Image-URL-M': 'http://images.amazon.com/images/P/0786868716.01.MZZZZZZZ.jpg', 'Image-URL-L': 'http://images.amazon.com/images/P/0786868716.01.LZZZZZZZ.jpg', 'Num_Ratings': 430, 'Avg_Ratings': 4.551162790697674}, {'Book-Title': 'The Catcher in the Rye', 'Book-Author': 'J.D. Salinger', 'Image-URL-S': 'http://images.amazon.com/images/P/0316769487.01.THUMBZZZ.jpg', 'Image-URL-M': 'http://images.amazon.com/images/P/0316769487.01.MZZZZZZZ.jpg', 'Image-URL-L': 'http://images.amazon.com/images/P/0316769487.01.LZZZZZZZ.jpg', 'Num_Ratings': 449, 'Avg_Ratings': 4.5456570155902005}, {'Book-Title': 'The Lovely Bones: A Novel', 'Book-Author': 'Alice Sebold', 'Image-URL-S': 'http://images.amazon.com/images/P/0316666343.01.THUMBZZZ.jpg', 'Image-URL-M': 'http://images.amazon.com/images/P/0316666343.01.MZZZZZZZ.jpg', 'Image-URL-L': 'http://images.amazon.com/images/P/0316666343.01.LZZZZZZZ.jpg', 'Num_Ratings': 1295, 'Avg_Ratings': 4.468725868725869}, {'Book-Title': '1984', 'Book-Author': 'George Orwell', 'Image-URL-S': 'http://images.amazon.com/images/P/0451524934.01.THUMBZZZ.jpg', 'Image-URL-M': 'http://images.amazon.com/images/P/0451524934.01.MZZZZZZZ.jpg', 'Image-URL-L': 'http://images.amazon.com/images/P/0451524934.01.LZZZZZZZ.jpg', 'Num_Ratings': 284, 'Avg_Ratings': 4.454225352112676}, {'Book-Title': 'Prodigal Summer: A Novel', 'Book-Author': 'Barbara Kingsolver', 'Image-URL-S': 'http://images.amazon.com/images/P/0060959037.01.THUMBZZZ.jpg', 'Image-URL-M': 'http://images.amazon.com/images/P/0060959037.01.MZZZZZZZ.jpg', 'Image-URL-L': 'http://images.amazon.com/images/P/0060959037.01.LZZZZZZZ.jpg', 'Num_Ratings': 253, 'Avg_Ratings': 4.450592885375494}, {'Book-Title': 'Neverwhere', 'Book-Author': 'Neil Gaiman', 'Image-URL-S': 'http://images.amazon.com/images/P/0380789019.01.THUMBZZZ.jpg', 'Image-URL-M': 'http://images.amazon.com/images/P/0380789019.01.MZZZZZZZ.jpg', 'Image-URL-L': 'http://images.amazon.com/images/P/0380789019.01.LZZZZZZZ.jpg', 'Num_Ratings': 265, 'Avg_Ratings': 4.449056603773585}, {'Book-Title': 'The Secret Life of Bees', 'Book-Author': 'Sue Monk Kidd', 'Image-URL-S': 'http://images.amazon.com/images/P/0142001740.01.THUMBZZZ.jpg', 'Image-URL-M': 'http://images.amazon.com/images/P/0142001740.01.MZZZZZZZ.jpg', 'Image-URL-L': 'http://images.amazon.com/images/P/0142001740.01.LZZZZZZZ.jpg', 'Num_Ratings': 774, 'Avg_Ratings': 4.447028423772609}, {'Book-Title': 'Stupid White Men ...and Other Sorry Excuses for the State of the Nation!', 'Book-Author': 'Michael Moore', 'Image-URL-S': 'http://images.amazon.com/images/P/0060392452.01.THUMBZZZ.jpg', 'Image-URL-M': 'http://images.amazon.com/images/P/0060392452.01.MZZZZZZZ.jpg', 'Image-URL-L': 'http://images.amazon.com/images/P/0060392452.01.LZZZZZZZ.jpg', 'Num_Ratings': 283, 'Avg_Ratings': 4.3568904593639575}, {'Book-Title': \"Tuesdays with Morrie: An Old Man, a Young Man, and Life's Greatest Lesson\", 'Book-Author': 'MITCH ALBOM', 'Image-URL-S': 'http://images.amazon.com/images/P/0385484518.01.THUMBZZZ.jpg', 'Image-URL-M': 'http://images.amazon.com/images/P/0385484518.01.MZZZZZZZ.jpg', 'Image-URL-L': 'http://images.amazon.com/images/P/0385484518.01.LZZZZZZZ.jpg', 'Num_Ratings': 493, 'Avg_Ratings': 4.354969574036511}, {'Book-Title': 'The Red Tent (Bestselling Backlist)', 'Book-Author': 'Anita Diamant', 'Image-URL-S': 'http://images.amazon.com/images/P/0312195516.01.THUMBZZZ.jpg', 'Image-URL-M': 'http://images.amazon.com/images/P/0312195516.01.MZZZZZZZ.jpg', 'Image-URL-L': 'http://images.amazon.com/images/P/0312195516.01.LZZZZZZZ.jpg', 'Num_Ratings': 723, 'Avg_Ratings': 4.334716459197787}, {'Book-Title': \"The Hitchhiker's Guide to the Galaxy\", 'Book-Author': 'Douglas Adams', 'Image-URL-S': 'http://images.amazon.com/images/P/0671461494.01.THUMBZZZ.jpg', 'Image-URL-M': 'http://images.amazon.com/images/P/0671461494.01.MZZZZZZZ.jpg', 'Image-URL-L': 'http://images.amazon.com/images/P/0671461494.01.LZZZZZZZ.jpg', 'Num_Ratings': 268, 'Avg_Ratings': 4.3283582089552235}, {'Book-Title': 'Nickel and Dimed: On (Not) Getting By in America', 'Book-Author': 'Barbara Ehrenreich', 'Image-URL-S': 'http://images.amazon.com/images/P/0805063897.01.THUMBZZZ.jpg', 'Image-URL-M': 'http://images.amazon.com/images/P/0805063897.01.MZZZZZZZ.jpg', 'Image-URL-L': 'http://images.amazon.com/images/P/0805063897.01.LZZZZZZZ.jpg', 'Num_Ratings': 335, 'Avg_Ratings': 4.28955223880597}, {'Book-Title': 'Into the Wild', 'Book-Author': 'Jon Krakauer', 'Image-URL-S': 'http://images.amazon.com/images/P/0385486804.01.THUMBZZZ.jpg', 'Image-URL-M': 'http://images.amazon.com/images/P/0385486804.01.MZZZZZZZ.jpg', 'Image-URL-L': 'http://images.amazon.com/images/P/0385486804.01.LZZZZZZZ.jpg', 'Num_Ratings': 252, 'Avg_Ratings': 4.273809523809524}, {'Book-Title': 'Fahrenheit 451', 'Book-Author': 'Ray Bradbury', 'Image-URL-S': 'http://images.amazon.com/images/P/3257208626.01.THUMBZZZ.jpg', 'Image-URL-M': 'http://images.amazon.com/images/P/3257208626.01.MZZZZZZZ.jpg', 'Image-URL-L': 'http://images.amazon.com/images/P/3257208626.01.LZZZZZZZ.jpg', 'Num_Ratings': 409, 'Avg_Ratings': 4.264058679706602}, {'Book-Title': 'Girl with a Pearl Earring', 'Book-Author': 'Tracy Chevalier', 'Image-URL-S': 'http://images.amazon.com/images/P/0452282152.01.THUMBZZZ.jpg', 'Image-URL-M': 'http://images.amazon.com/images/P/0452282152.01.MZZZZZZZ.jpg', 'Image-URL-L': 'http://images.amazon.com/images/P/0452282152.01.LZZZZZZZ.jpg', 'Num_Ratings': 526, 'Avg_Ratings': 4.218631178707224}, {'Book-Title': 'Outlander', 'Book-Author': 'DIANA GABALDON', 'Image-URL-S': 'http://images.amazon.com/images/P/0440222915.01.THUMBZZZ.jpg', 'Image-URL-M': 'http://images.amazon.com/images/P/0440222915.01.MZZZZZZZ.jpg', 'Image-URL-L': 'http://images.amazon.com/images/P/0440222915.01.LZZZZZZZ.jpg', 'Num_Ratings': 283, 'Avg_Ratings': 4.173144876325089}, {'Book-Title': \"Where the Heart Is (Oprah's Book Club (Paperback))\", 'Book-Author': 'Billie Letts', 'Image-URL-S': 'http://images.amazon.com/images/P/0446672211.01.THUMBZZZ.jpg', 'Image-URL-M': 'http://images.amazon.com/images/P/0446672211.01.MZZZZZZZ.jpg', 'Image-URL-L': 'http://images.amazon.com/images/P/0446672211.01.LZZZZZZZ.jpg', 'Num_Ratings': 585, 'Avg_Ratings': 4.105982905982906}, {'Book-Title': 'Seabiscuit: An American Legend', 'Book-Author': 'LAURA HILLENBRAND', 'Image-URL-S': 'http://images.amazon.com/images/P/0449005615.01.THUMBZZZ.jpg', 'Image-URL-M': 'http://images.amazon.com/images/P/0449005615.01.MZZZZZZZ.jpg', 'Image-URL-L': 'http://images.amazon.com/images/P/0449005615.01.LZZZZZZZ.jpg', 'Num_Ratings': 275, 'Avg_Ratings': 4.098181818181819}, {'Book-Title': 'Life of Pi', 'Book-Author': 'Yann Martel', 'Image-URL-S': 'http://images.amazon.com/images/P/0151008116.01.THUMBZZZ.jpg', 'Image-URL-M': 'http://images.amazon.com/images/P/0151008116.01.MZZZZZZZ.jpg', 'Image-URL-L': 'http://images.amazon.com/images/P/0151008116.01.LZZZZZZZ.jpg', 'Num_Ratings': 664, 'Avg_Ratings': 4.088855421686747}, {'Book-Title': 'The Bean Trees', 'Book-Author': 'Barbara Kingsolver', 'Image-URL-S': 'http://images.amazon.com/images/P/0060915544.01.THUMBZZZ.jpg', 'Image-URL-M': 'http://images.amazon.com/images/P/0060915544.01.MZZZZZZZ.jpg', 'Image-URL-L': 'http://images.amazon.com/images/P/0060915544.01.LZZZZZZZ.jpg', 'Num_Ratings': 389, 'Avg_Ratings': 4.087403598971722}, {'Book-Title': 'A Child Called \\\\It\\\\\": One Child\\'s Courage to Survive\"', 'Book-Author': 'Dave Pelzer', 'Image-URL-S': 'http://images.amazon.com/images/P/1558743669.01.THUMBZZZ.jpg', 'Image-URL-M': 'http://images.amazon.com/images/P/1558743669.01.MZZZZZZZ.jpg', 'Image-URL-L': 'http://images.amazon.com/images/P/1558743669.01.LZZZZZZZ.jpg', 'Num_Ratings': 265, 'Avg_Ratings': 4.086792452830188}, {'Book-Title': \"ANGELA'S ASHES\", 'Book-Author': 'Frank McCourt', 'Image-URL-S': 'http://images.amazon.com/images/P/0684874350.01.THUMBZZZ.jpg', 'Image-URL-M': 'http://images.amazon.com/images/P/0684874350.01.MZZZZZZZ.jpg', 'Image-URL-L': 'http://images.amazon.com/images/P/0684874350.01.LZZZZZZZ.jpg', 'Num_Ratings': 279, 'Avg_Ratings': 4.075268817204301}, {'Book-Title': 'Good in Bed', 'Book-Author': 'Jennifer Weiner', 'Image-URL-S': 'http://images.amazon.com/images/P/0743418174.01.THUMBZZZ.jpg', 'Image-URL-M': 'http://images.amazon.com/images/P/0743418174.01.MZZZZZZZ.jpg', 'Image-URL-L': 'http://images.amazon.com/images/P/0743418174.01.LZZZZZZZ.jpg', 'Num_Ratings': 490, 'Avg_Ratings': 4.055102040816327}, {'Book-Title': 'Fast Food Nation: The Dark Side of the All-American Meal', 'Book-Author': 'Eric Schlosser', 'Image-URL-S': 'http://images.amazon.com/images/P/0060938455.01.THUMBZZZ.jpg', 'Image-URL-M': 'http://images.amazon.com/images/P/0060938455.01.MZZZZZZZ.jpg', 'Image-URL-L': 'http://images.amazon.com/images/P/0060938455.01.LZZZZZZZ.jpg', 'Num_Ratings': 321, 'Avg_Ratings': 4.037383177570093}, {'Book-Title': 'American Gods', 'Book-Author': 'Neil Gaiman', 'Image-URL-S': 'http://images.amazon.com/images/P/0380789035.01.THUMBZZZ.jpg', 'Image-URL-M': 'http://images.amazon.com/images/P/0380789035.01.MZZZZZZZ.jpg', 'Image-URL-L': 'http://images.amazon.com/images/P/0380789035.01.LZZZZZZZ.jpg', 'Num_Ratings': 302, 'Avg_Ratings': 4.006622516556291}, {'Book-Title': 'Skipping Christmas', 'Book-Author': 'JOHN GRISHAM', 'Image-URL-S': 'http://images.amazon.com/images/P/0385505833.01.THUMBZZZ.jpg', 'Image-URL-M': 'http://images.amazon.com/images/P/0385505833.01.MZZZZZZZ.jpg', 'Image-URL-L': 'http://images.amazon.com/images/P/0385505833.01.LZZZZZZZ.jpg', 'Num_Ratings': 322, 'Avg_Ratings': 4.0062111801242235}, {'Book-Title': \"Left Behind: A Novel of the Earth's Last Days (Left Behind No. 1)\", 'Book-Author': 'Tim Lahaye', 'Image-URL-S': 'http://images.amazon.com/images/P/0842329129.01.THUMBZZZ.jpg', 'Image-URL-M': 'http://images.amazon.com/images/P/0842329129.01.MZZZZZZZ.jpg', 'Image-URL-L': 'http://images.amazon.com/images/P/0842329129.01.LZZZZZZZ.jpg', 'Num_Ratings': 318, 'Avg_Ratings': 4.00314465408805}, {'Book-Title': 'The Golden Compass (His Dark Materials, Book 1)', 'Book-Author': 'PHILIP PULLMAN', 'Image-URL-S': 'http://images.amazon.com/images/P/037582345X.01.THUMBZZZ.jpg', 'Image-URL-M': 'http://images.amazon.com/images/P/037582345X.01.MZZZZZZZ.jpg', 'Image-URL-L': 'http://images.amazon.com/images/P/037582345X.01.LZZZZZZZ.jpg', 'Num_Ratings': 336, 'Avg_Ratings': 4.0}, {'Book-Title': 'The Color Purple', 'Book-Author': 'Alice Walker', 'Image-URL-S': 'http://images.amazon.com/images/P/0671617028.01.THUMBZZZ.jpg', 'Image-URL-M': 'http://images.amazon.com/images/P/0671617028.01.MZZZZZZZ.jpg', 'Image-URL-L': 'http://images.amazon.com/images/P/0671617028.01.LZZZZZZZ.jpg', 'Num_Ratings': 314, 'Avg_Ratings': 3.964968152866242}, {'Book-Title': 'Silence of the Lambs', 'Book-Author': 'Thomas Harris', 'Image-URL-S': 'http://images.amazon.com/images/P/0312924585.01.THUMBZZZ.jpg', 'Image-URL-M': 'http://images.amazon.com/images/P/0312924585.01.MZZZZZZZ.jpg', 'Image-URL-L': 'http://images.amazon.com/images/P/0312924585.01.LZZZZZZZ.jpg', 'Num_Ratings': 256, 'Avg_Ratings': 3.9609375}, {'Book-Title': 'About a Boy', 'Book-Author': 'Nick Hornby', 'Image-URL-S': 'http://images.amazon.com/images/P/1573227331.01.THUMBZZZ.jpg', 'Image-URL-M': 'http://images.amazon.com/images/P/1573227331.01.MZZZZZZZ.jpg', 'Image-URL-L': 'http://images.amazon.com/images/P/1573227331.01.LZZZZZZZ.jpg', 'Num_Ratings': 262, 'Avg_Ratings': 3.900763358778626}, {'Book-Title': 'Seven Up (A Stephanie Plum Novel)', 'Book-Author': 'Janet Evanovich', 'Image-URL-S': 'http://images.amazon.com/images/P/0312265840.01.THUMBZZZ.jpg', 'Image-URL-M': 'http://images.amazon.com/images/P/0312265840.01.MZZZZZZZ.jpg', 'Image-URL-L': 'http://images.amazon.com/images/P/0312265840.01.LZZZZZZZ.jpg', 'Num_Ratings': 278, 'Avg_Ratings': 3.8884892086330933}, {'Book-Title': 'The Alchemist: A Fable About Following Your Dream', 'Book-Author': 'Paulo Coelho', 'Image-URL-S': 'http://images.amazon.com/images/P/0062502174.01.THUMBZZZ.jpg', 'Image-URL-M': 'http://images.amazon.com/images/P/0062502174.01.MZZZZZZZ.jpg', 'Image-URL-L': 'http://images.amazon.com/images/P/0062502174.01.LZZZZZZZ.jpg', 'Num_Ratings': 266, 'Avg_Ratings': 3.8759398496240602}, {'Book-Title': 'Hard Eight : A Stephanie Plum Novel (A Stephanie Plum Novel)', 'Book-Author': 'Janet Evanovich', 'Image-URL-S': 'http://images.amazon.com/images/P/0312983867.01.THUMBZZZ.jpg', 'Image-URL-M': 'http://images.amazon.com/images/P/0312983867.01.MZZZZZZZ.jpg', 'Image-URL-L': 'http://images.amazon.com/images/P/0312983867.01.LZZZZZZZ.jpg', 'Num_Ratings': 269, 'Avg_Ratings': 3.825278810408922}, {'Book-Title': \"Suzanne's Diary for Nicholas\", 'Book-Author': 'James Patterson', 'Image-URL-S': 'http://images.amazon.com/images/P/0316969443.01.THUMBZZZ.jpg', 'Image-URL-M': 'http://images.amazon.com/images/P/0316969443.01.MZZZZZZZ.jpg', 'Image-URL-L': 'http://images.amazon.com/images/P/0316969443.01.LZZZZZZZ.jpg', 'Num_Ratings': 457, 'Avg_Ratings': 3.8205689277899344}, {'Book-Title': 'Lord of the Flies', 'Book-Author': 'William Gerald Golding', 'Image-URL-S': 'http://images.amazon.com/images/P/0399501487.01.THUMBZZZ.jpg', 'Image-URL-M': 'http://images.amazon.com/images/P/0399501487.01.MZZZZZZZ.jpg', 'Image-URL-L': 'http://images.amazon.com/images/P/0399501487.01.LZZZZZZZ.jpg', 'Num_Ratings': 259, 'Avg_Ratings': 3.8185328185328187}, {'Book-Title': 'A Prayer for Owen Meany', 'Book-Author': 'John Irving', 'Image-URL-S': 'http://images.amazon.com/images/P/0345361792.01.THUMBZZZ.jpg', 'Image-URL-M': 'http://images.amazon.com/images/P/0345361792.01.MZZZZZZZ.jpg', 'Image-URL-L': 'http://images.amazon.com/images/P/0345361792.01.LZZZZZZZ.jpg', 'Num_Ratings': 413, 'Avg_Ratings': 3.7966101694915255}, {'Book-Title': 'The Vampire Lestat (Vampire Chronicles, Book II)', 'Book-Author': 'ANNE RICE', 'Image-URL-S': 'http://images.amazon.com/images/P/0345313860.01.THUMBZZZ.jpg', 'Image-URL-M': 'http://images.amazon.com/images/P/0345313860.01.MZZZZZZZ.jpg', 'Image-URL-L': 'http://images.amazon.com/images/P/0345313860.01.LZZZZZZZ.jpg', 'Num_Ratings': 301, 'Avg_Ratings': 3.777408637873754}, {'Book-Title': \"White Oleander : A Novel (Oprah's Book Club)\", 'Book-Author': 'Janet Fitch', 'Image-URL-S': 'http://images.amazon.com/images/P/0316284955.01.THUMBZZZ.jpg', 'Image-URL-M': 'http://images.amazon.com/images/P/0316284955.01.MZZZZZZZ.jpg', 'Image-URL-L': 'http://images.amazon.com/images/P/0316284955.01.LZZZZZZZ.jpg', 'Num_Ratings': 356, 'Avg_Ratings': 3.7724719101123596}, {'Book-Title': 'Wicked: The Life and Times of the Wicked Witch of the West', 'Book-Author': 'Gregory Maguire', 'Image-URL-S': 'http://images.amazon.com/images/P/0060987103.01.THUMBZZZ.jpg', 'Image-URL-M': 'http://images.amazon.com/images/P/0060987103.01.MZZZZZZZ.jpg', 'Image-URL-L': 'http://images.amazon.com/images/P/0060987103.01.LZZZZZZZ.jpg', 'Num_Ratings': 326, 'Avg_Ratings': 3.766871165644172}, {'Book-Title': 'Me Talk Pretty One Day', 'Book-Author': 'David Sedaris', 'Image-URL-S': 'http://images.amazon.com/images/P/0316776963.01.THUMBZZZ.jpg', 'Image-URL-M': 'http://images.amazon.com/images/P/0316776963.01.MZZZZZZZ.jpg', 'Image-URL-L': 'http://images.amazon.com/images/P/0316776963.01.LZZZZZZZ.jpg', 'Num_Ratings': 457, 'Avg_Ratings': 3.7527352297593}, {'Book-Title': 'Timeline', 'Book-Author': 'MICHAEL CRICHTON', 'Image-URL-S': 'http://images.amazon.com/images/P/0345417623.01.THUMBZZZ.jpg', 'Image-URL-M': 'http://images.amazon.com/images/P/0345417623.01.MZZZZZZZ.jpg', 'Image-URL-L': 'http://images.amazon.com/images/P/0345417623.01.LZZZZZZZ.jpg', 'Num_Ratings': 552, 'Avg_Ratings': 3.75}, {'Book-Title': 'Misery', 'Book-Author': 'Stephen King', 'Image-URL-S': 'http://images.amazon.com/images/P/0451153553.01.THUMBZZZ.jpg', 'Image-URL-M': 'http://images.amazon.com/images/P/0451153553.01.MZZZZZZZ.jpg', 'Image-URL-L': 'http://images.amazon.com/images/P/0451153553.01.LZZZZZZZ.jpg', 'Num_Ratings': 291, 'Avg_Ratings': 3.718213058419244}, {'Book-Title': 'Angels &amp; Demons', 'Book-Author': 'Dan Brown', 'Image-URL-S': 'http://images.amazon.com/images/P/0671027360.01.THUMBZZZ.jpg', 'Image-URL-M': 'http://images.amazon.com/images/P/0671027360.01.MZZZZZZZ.jpg', 'Image-URL-L': 'http://images.amazon.com/images/P/0671027360.01.LZZZZZZZ.jpg', 'Num_Ratings': 670, 'Avg_Ratings': 3.708955223880597}, {'Book-Title': 'Bel Canto: A Novel', 'Book-Author': 'Ann Patchett', 'Image-URL-S': 'http://images.amazon.com/images/P/0060934417.01.THUMBZZZ.jpg', 'Image-URL-M': 'http://images.amazon.com/images/P/0060934417.01.MZZZZZZZ.jpg', 'Image-URL-L': 'http://images.amazon.com/images/P/0060934417.01.LZZZZZZZ.jpg', 'Num_Ratings': 350, 'Avg_Ratings': 3.702857142857143}, {'Book-Title': 'Watership Down', 'Book-Author': 'Richard George Adams', 'Image-URL-S': 'http://images.amazon.com/images/P/038039586X.01.THUMBZZZ.jpg', 'Image-URL-M': 'http://images.amazon.com/images/P/038039586X.01.MZZZZZZZ.jpg', 'Image-URL-L': 'http://images.amazon.com/images/P/038039586X.01.LZZZZZZZ.jpg', 'Num_Ratings': 312, 'Avg_Ratings': 3.698717948717949}, {'Book-Title': 'The Green Mile', 'Book-Author': 'Stephen King', 'Image-URL-S': 'http://images.amazon.com/images/P/0671032658.01.THUMBZZZ.jpg', 'Image-URL-M': 'http://images.amazon.com/images/P/0671032658.01.MZZZZZZZ.jpg', 'Image-URL-L': 'http://images.amazon.com/images/P/0671032658.01.LZZZZZZZ.jpg', 'Num_Ratings': 264, 'Avg_Ratings': 3.6818181818181817}, {'Book-Title': 'Balzac and the Little Chinese Seamstress : A Novel', 'Book-Author': 'DAI SIJIE', 'Image-URL-S': 'http://images.amazon.com/images/P/0385722206.01.THUMBZZZ.jpg', 'Image-URL-M': 'http://images.amazon.com/images/P/0385722206.01.MZZZZZZZ.jpg', 'Image-URL-L': 'http://images.amazon.com/images/P/0385722206.01.LZZZZZZZ.jpg', 'Num_Ratings': 284, 'Avg_Ratings': 3.676056338028169}, {'Book-Title': 'One for the Money (Stephanie Plum Novels (Paperback))', 'Book-Author': 'Janet Evanovich', 'Image-URL-S': 'http://images.amazon.com/images/P/0061009059.01.THUMBZZZ.jpg', 'Image-URL-M': 'http://images.amazon.com/images/P/0061009059.01.MZZZZZZZ.jpg', 'Image-URL-L': 'http://images.amazon.com/images/P/0061009059.01.LZZZZZZZ.jpg', 'Num_Ratings': 291, 'Avg_Ratings': 3.656357388316151}, {'Book-Title': 'Confessions of a Shopaholic (Summer Display Opportunity)', 'Book-Author': 'SOPHIE KINSELLA', 'Image-URL-S': 'http://images.amazon.com/images/P/0385335482.01.THUMBZZZ.jpg', 'Image-URL-M': 'http://images.amazon.com/images/P/0385335482.01.MZZZZZZZ.jpg', 'Image-URL-L': 'http://images.amazon.com/images/P/0385335482.01.LZZZZZZZ.jpg', 'Num_Ratings': 350, 'Avg_Ratings': 3.6342857142857143}, {'Book-Title': 'Empire Falls', 'Book-Author': 'Richard Russo', 'Image-URL-S': 'http://images.amazon.com/images/P/0375726403.01.THUMBZZZ.jpg', 'Image-URL-M': 'http://images.amazon.com/images/P/0375726403.01.MZZZZZZZ.jpg', 'Image-URL-L': 'http://images.amazon.com/images/P/0375726403.01.LZZZZZZZ.jpg', 'Num_Ratings': 392, 'Avg_Ratings': 3.6301020408163267}, {'Book-Title': 'Lucky : A Memoir', 'Book-Author': 'Alice Sebold', 'Image-URL-S': 'http://images.amazon.com/images/P/0316096199.01.THUMBZZZ.jpg', 'Image-URL-M': 'http://images.amazon.com/images/P/0316096199.01.MZZZZZZZ.jpg', 'Image-URL-L': 'http://images.amazon.com/images/P/0316096199.01.LZZZZZZZ.jpg', 'Num_Ratings': 301, 'Avg_Ratings': 3.6212624584717608}, {'Book-Title': 'The Poisonwood Bible: A Novel', 'Book-Author': 'Barbara Kingsolver', 'Image-URL-S': 'http://images.amazon.com/images/P/0060930535.01.THUMBZZZ.jpg', 'Image-URL-M': 'http://images.amazon.com/images/P/0060930535.01.MZZZZZZZ.jpg', 'Image-URL-L': 'http://images.amazon.com/images/P/0060930535.01.LZZZZZZZ.jpg', 'Num_Ratings': 494, 'Avg_Ratings': 3.6093117408906883}, {'Book-Title': 'Red Dragon', 'Book-Author': 'Thomas Harris', 'Image-URL-S': 'http://images.amazon.com/images/P/0440206154.01.THUMBZZZ.jpg', 'Image-URL-M': 'http://images.amazon.com/images/P/0440206154.01.MZZZZZZZ.jpg', 'Image-URL-L': 'http://images.amazon.com/images/P/0440206154.01.LZZZZZZZ.jpg', 'Num_Ratings': 402, 'Avg_Ratings': 3.6069651741293534}, {'Book-Title': \"The Pilot's Wife : A Novel\", 'Book-Author': 'Anita Shreve', 'Image-URL-S': 'http://images.amazon.com/images/P/0316601950.01.THUMBZZZ.jpg', 'Image-URL-M': 'http://images.amazon.com/images/P/0316601950.01.MZZZZZZZ.jpg', 'Image-URL-L': 'http://images.amazon.com/images/P/0316601950.01.LZZZZZZZ.jpg', 'Num_Ratings': 568, 'Avg_Ratings': 3.5933098591549295}, {'Book-Title': 'Insomnia', 'Book-Author': 'Stephen King', 'Image-URL-S': 'http://images.amazon.com/images/P/0670855030.01.THUMBZZZ.jpg', 'Image-URL-M': 'http://images.amazon.com/images/P/0670855030.01.MZZZZZZZ.jpg', 'Image-URL-L': 'http://images.amazon.com/images/P/0670855030.01.LZZZZZZZ.jpg', 'Num_Ratings': 260, 'Avg_Ratings': 3.576923076923077}, {'Book-Title': 'Digital Fortress : A Thriller', 'Book-Author': 'Dan Brown', 'Image-URL-S': 'http://images.amazon.com/images/P/0312995423.01.THUMBZZZ.jpg', 'Image-URL-M': 'http://images.amazon.com/images/P/0312995423.01.MZZZZZZZ.jpg', 'Image-URL-L': 'http://images.amazon.com/images/P/0312995423.01.LZZZZZZZ.jpg', 'Num_Ratings': 293, 'Avg_Ratings': 3.57679180887372}, {'Book-Title': '1st to Die: A Novel', 'Book-Author': 'James Patterson', 'Image-URL-S': 'http://images.amazon.com/images/P/0446610038.01.THUMBZZZ.jpg', 'Image-URL-M': 'http://images.amazon.com/images/P/0446610038.01.MZZZZZZZ.jpg', 'Image-URL-L': 'http://images.amazon.com/images/P/0446610038.01.LZZZZZZZ.jpg', 'Num_Ratings': 509, 'Avg_Ratings': 3.5756385068762278}, {'Book-Title': \"She's Come Undone (Oprah's Book Club)\", 'Book-Author': 'Wally Lamb', 'Image-URL-S': 'http://images.amazon.com/images/P/0671021001.01.THUMBZZZ.jpg', 'Image-URL-M': 'http://images.amazon.com/images/P/0671021001.01.MZZZZZZZ.jpg', 'Image-URL-L': 'http://images.amazon.com/images/P/0671021001.01.LZZZZZZZ.jpg', 'Num_Ratings': 468, 'Avg_Ratings': 3.5705128205128207}, {'Book-Title': 'The Notebook', 'Book-Author': 'Nicholas Sparks', 'Image-URL-S': 'http://images.amazon.com/images/P/0446605239.01.THUMBZZZ.jpg', 'Image-URL-M': 'http://images.amazon.com/images/P/0446605239.01.MZZZZZZZ.jpg', 'Image-URL-L': 'http://images.amazon.com/images/P/0446605239.01.LZZZZZZZ.jpg', 'Num_Ratings': 650, 'Avg_Ratings': 3.56}, {'Book-Title': 'Interview with the Vampire', 'Book-Author': 'Anne Rice', 'Image-URL-S': 'http://images.amazon.com/images/P/0345337662.01.THUMBZZZ.jpg', 'Image-URL-M': 'http://images.amazon.com/images/P/0345337662.01.MZZZZZZZ.jpg', 'Image-URL-L': 'http://images.amazon.com/images/P/0345337662.01.LZZZZZZZ.jpg', 'Num_Ratings': 508, 'Avg_Ratings': 3.5511811023622046}, {'Book-Title': 'The Nanny Diaries: A Novel', 'Book-Author': 'Emma McLaughlin', 'Image-URL-S': 'http://images.amazon.com/images/P/0312278586.01.THUMBZZZ.jpg', 'Image-URL-M': 'http://images.amazon.com/images/P/0312278586.01.MZZZZZZZ.jpg', 'Image-URL-L': 'http://images.amazon.com/images/P/0312278586.01.LZZZZZZZ.jpg', 'Num_Ratings': 828, 'Avg_Ratings': 3.5301932367149758}, {'Book-Title': \"Bridget Jones's Diary\", 'Book-Author': 'Helen Fielding', 'Image-URL-S': 'http://images.amazon.com/images/P/0330332775.01.THUMBZZZ.jpg', 'Image-URL-M': 'http://images.amazon.com/images/P/0330332775.01.MZZZZZZZ.jpg', 'Image-URL-L': 'http://images.amazon.com/images/P/0330332775.01.LZZZZZZZ.jpg', 'Num_Ratings': 815, 'Avg_Ratings': 3.5276073619631902}, {'Book-Title': 'White Oleander : A Novel', 'Book-Author': 'Janet Fitch', 'Image-URL-S': 'http://images.amazon.com/images/P/0316182540.01.THUMBZZZ.jpg', 'Image-URL-M': 'http://images.amazon.com/images/P/0316182540.01.MZZZZZZZ.jpg', 'Image-URL-L': 'http://images.amazon.com/images/P/0316182540.01.LZZZZZZZ.jpg', 'Num_Ratings': 387, 'Avg_Ratings': 3.5064599483204133}, {'Book-Title': 'The Poisonwood Bible', 'Book-Author': 'Barbara Kingsolver', 'Image-URL-S': 'http://images.amazon.com/images/P/0060175400.01.THUMBZZZ.jpg', 'Image-URL-M': 'http://images.amazon.com/images/P/0060175400.01.MZZZZZZZ.jpg', 'Image-URL-L': 'http://images.amazon.com/images/P/0060175400.01.LZZZZZZZ.jpg', 'Num_Ratings': 267, 'Avg_Ratings': 3.50187265917603}, {'Book-Title': \"She's Come Undone (Oprah's Book Club (Paperback))\", 'Book-Author': 'Wally Lamb', 'Image-URL-S': 'http://images.amazon.com/images/P/0671003755.01.THUMBZZZ.jpg', 'Image-URL-M': 'http://images.amazon.com/images/P/0671003755.01.MZZZZZZZ.jpg', 'Image-URL-L': 'http://images.amazon.com/images/P/0671003755.01.LZZZZZZZ.jpg', 'Num_Ratings': 446, 'Avg_Ratings': 3.495515695067265}, {'Book-Title': 'Two for the Dough', 'Book-Author': 'Janet Evanovich', 'Image-URL-S': 'http://images.amazon.com/images/P/0671001795.01.THUMBZZZ.jpg', 'Image-URL-M': 'http://images.amazon.com/images/P/0671001795.01.MZZZZZZZ.jpg', 'Image-URL-L': 'http://images.amazon.com/images/P/0671001795.01.LZZZZZZZ.jpg', 'Num_Ratings': 267, 'Avg_Ratings': 3.4644194756554305}, {'Book-Title': 'Divine Secrets of the Ya-Ya Sisterhood: A Novel', 'Book-Author': 'Rebecca Wells', 'Image-URL-S': 'http://images.amazon.com/images/P/0060928336.01.THUMBZZZ.jpg', 'Image-URL-M': 'http://images.amazon.com/images/P/0060928336.01.MZZZZZZZ.jpg', 'Image-URL-L': 'http://images.amazon.com/images/P/0060928336.01.LZZZZZZZ.jpg', 'Num_Ratings': 740, 'Avg_Ratings': 3.437837837837838}, {'Book-Title': 'Fried Green Tomatoes at the Whistle Stop Cafe', 'Book-Author': 'Fannie Flagg', 'Image-URL-S': 'http://images.amazon.com/images/P/0070212570.01.THUMBZZZ.jpg', 'Image-URL-M': 'http://images.amazon.com/images/P/0070212570.01.MZZZZZZZ.jpg', 'Image-URL-L': 'http://images.amazon.com/images/P/0070212570.01.LZZZZZZZ.jpg', 'Num_Ratings': 313, 'Avg_Ratings': 3.4345047923322682}, {'Book-Title': 'The Summons', 'Book-Author': 'John Grisham', 'Image-URL-S': 'http://images.amazon.com/images/P/0440241073.01.THUMBZZZ.jpg', 'Image-URL-M': 'http://images.amazon.com/images/P/0440241073.01.MZZZZZZZ.jpg', 'Image-URL-L': 'http://images.amazon.com/images/P/0440241073.01.LZZZZZZZ.jpg', 'Num_Ratings': 655, 'Avg_Ratings': 3.43206106870229}, {'Book-Title': 'The Divine Secrets of the Ya-Ya Sisterhood: A Novel', 'Book-Author': 'Rebecca Wells', 'Image-URL-S': 'http://images.amazon.com/images/P/0060502258.01.THUMBZZZ.jpg', 'Image-URL-M': 'http://images.amazon.com/images/P/0060502258.01.MZZZZZZZ.jpg', 'Image-URL-L': 'http://images.amazon.com/images/P/0060502258.01.LZZZZZZZ.jpg', 'Num_Ratings': 376, 'Avg_Ratings': 3.4308510638297873}, {'Book-Title': 'Jurassic Park', 'Book-Author': 'Michael Crichton', 'Image-URL-S': 'http://images.amazon.com/images/P/0345370775.01.THUMBZZZ.jpg', 'Image-URL-M': 'http://images.amazon.com/images/P/0345370775.01.MZZZZZZZ.jpg', 'Image-URL-L': 'http://images.amazon.com/images/P/0345370775.01.LZZZZZZZ.jpg', 'Num_Ratings': 488, 'Avg_Ratings': 3.42827868852459}, {'Book-Title': 'A Heartbreaking Work of Staggering Genius', 'Book-Author': 'Dave Eggers', 'Image-URL-S': 'http://images.amazon.com/images/P/0375725784.01.THUMBZZZ.jpg', 'Image-URL-M': 'http://images.amazon.com/images/P/0375725784.01.MZZZZZZZ.jpg', 'Image-URL-L': 'http://images.amazon.com/images/P/0375725784.01.LZZZZZZZ.jpg', 'Num_Ratings': 302, 'Avg_Ratings': 3.423841059602649}, {'Book-Title': 'Girl, Interrupted', 'Book-Author': 'SUSANNA KAYSEN', 'Image-URL-S': 'http://images.amazon.com/images/P/0679746048.01.THUMBZZZ.jpg', 'Image-URL-M': 'http://images.amazon.com/images/P/0679746048.01.MZZZZZZZ.jpg', 'Image-URL-L': 'http://images.amazon.com/images/P/0679746048.01.LZZZZZZZ.jpg', 'Num_Ratings': 262, 'Avg_Ratings': 3.4198473282442747}, {'Book-Title': \"The No. 1 Ladies' Detective Agency (Today Show Book Club #8)\", 'Book-Author': 'Alexander McCall Smith', 'Image-URL-S': 'http://images.amazon.com/images/P/1400034779.01.THUMBZZZ.jpg', 'Image-URL-M': 'http://images.amazon.com/images/P/1400034779.01.MZZZZZZZ.jpg', 'Image-URL-L': 'http://images.amazon.com/images/P/1400034779.01.LZZZZZZZ.jpg', 'Num_Ratings': 431, 'Avg_Ratings': 3.417633410672854}, {'Book-Title': 'Chocolat', 'Book-Author': 'Joanne Harris', 'Image-URL-S': 'http://images.amazon.com/images/P/0552998486.01.THUMBZZZ.jpg', 'Image-URL-M': 'http://images.amazon.com/images/P/0552998486.01.MZZZZZZZ.jpg', 'Image-URL-L': 'http://images.amazon.com/images/P/0552998486.01.LZZZZZZZ.jpg', 'Num_Ratings': 344, 'Avg_Ratings': 3.4127906976744184}, {'Book-Title': 'A Walk to Remember', 'Book-Author': 'Nicholas Sparks', 'Image-URL-S': 'http://images.amazon.com/images/P/0446608955.01.THUMBZZZ.jpg', 'Image-URL-M': 'http://images.amazon.com/images/P/0446608955.01.MZZZZZZZ.jpg', 'Image-URL-L': 'http://images.amazon.com/images/P/0446608955.01.LZZZZZZZ.jpg', 'Num_Ratings': 378, 'Avg_Ratings': 3.3994708994708995}, {'Book-Title': \"The Handmaid's Tale\", 'Book-Author': 'Margaret Atwood', 'Image-URL-S': 'http://images.amazon.com/images/P/0449212602.01.THUMBZZZ.jpg', 'Image-URL-M': 'http://images.amazon.com/images/P/0449212602.01.MZZZZZZZ.jpg', 'Image-URL-L': 'http://images.amazon.com/images/P/0449212602.01.LZZZZZZZ.jpg', 'Num_Ratings': 311, 'Avg_Ratings': 3.3987138263665595}, {'Book-Title': \"The Bonesetter's Daughter\", 'Book-Author': 'Amy Tan', 'Image-URL-S': 'http://images.amazon.com/images/P/0399146431.01.THUMBZZZ.jpg', 'Image-URL-M': 'http://images.amazon.com/images/P/0399146431.01.MZZZZZZZ.jpg', 'Image-URL-L': 'http://images.amazon.com/images/P/0399146431.01.LZZZZZZZ.jpg', 'Num_Ratings': 384, 'Avg_Ratings': 3.390625}, {'Book-Title': 'One Door Away from Heaven', 'Book-Author': 'Dean R. Koontz', 'Image-URL-S': 'http://images.amazon.com/images/P/0553582755.01.THUMBZZZ.jpg', 'Image-URL-M': 'http://images.amazon.com/images/P/0553582755.01.MZZZZZZZ.jpg', 'Image-URL-L': 'http://images.amazon.com/images/P/0553582755.01.LZZZZZZZ.jpg', 'Num_Ratings': 298, 'Avg_Ratings': 3.389261744966443}, {'Book-Title': 'Fall On Your Knees (Oprah #45)', 'Book-Author': 'Ann-Marie MacDonald', 'Image-URL-S': 'http://images.amazon.com/images/P/0743237188.01.THUMBZZZ.jpg', 'Image-URL-M': 'http://images.amazon.com/images/P/0743237188.01.MZZZZZZZ.jpg', 'Image-URL-L': 'http://images.amazon.com/images/P/0743237188.01.LZZZZZZZ.jpg', 'Num_Ratings': 284, 'Avg_Ratings': 3.387323943661972}, {'Book-Title': 'A Bend in the Road', 'Book-Author': 'Nicholas Sparks', 'Image-URL-S': 'http://images.amazon.com/images/P/0446527785.01.THUMBZZZ.jpg', 'Image-URL-M': 'http://images.amazon.com/images/P/0446527785.01.MZZZZZZZ.jpg', 'Image-URL-L': 'http://images.amazon.com/images/P/0446527785.01.LZZZZZZZ.jpg', 'Num_Ratings': 346, 'Avg_Ratings': 3.3641618497109826}, {'Book-Title': 'Summer Sisters', 'Book-Author': 'Judy Blume', 'Image-URL-S': 'http://images.amazon.com/images/P/0385324057.01.THUMBZZZ.jpg', 'Image-URL-M': 'http://images.amazon.com/images/P/0385324057.01.MZZZZZZZ.jpg', 'Image-URL-L': 'http://images.amazon.com/images/P/0385324057.01.LZZZZZZZ.jpg', 'Num_Ratings': 573, 'Avg_Ratings': 3.3612565445026177}, {'Book-Title': 'Cold Mountain : A Novel', 'Book-Author': 'CHARLES FRAZIER', 'Image-URL-S': 'http://images.amazon.com/images/P/0375700757.01.THUMBZZZ.jpg', 'Image-URL-M': 'http://images.amazon.com/images/P/0375700757.01.MZZZZZZZ.jpg', 'Image-URL-L': 'http://images.amazon.com/images/P/0375700757.01.LZZZZZZZ.jpg', 'Num_Ratings': 311, 'Avg_Ratings': 3.35048231511254}, {'Book-Title': 'The Beach House', 'Book-Author': 'James Patterson', 'Image-URL-S': 'http://images.amazon.com/images/P/0446612545.01.THUMBZZZ.jpg', 'Image-URL-M': 'http://images.amazon.com/images/P/0446612545.01.MZZZZZZZ.jpg', 'Image-URL-L': 'http://images.amazon.com/images/P/0446612545.01.LZZZZZZZ.jpg', 'Num_Ratings': 435, 'Avg_Ratings': 3.3471264367816094}, {'Book-Title': 'The Hours: A Novel', 'Book-Author': 'Michael Cunningham', 'Image-URL-S': 'http://images.amazon.com/images/P/0312305060.01.THUMBZZZ.jpg', 'Image-URL-M': 'http://images.amazon.com/images/P/0312305060.01.MZZZZZZZ.jpg', 'Image-URL-L': 'http://images.amazon.com/images/P/0312305060.01.LZZZZZZZ.jpg', 'Num_Ratings': 294, 'Avg_Ratings': 3.3469387755102042}, {'Book-Title': 'Icy Sparks', 'Book-Author': 'Gwyn Hyman Rubio', 'Image-URL-S': 'http://images.amazon.com/images/P/0142000205.01.THUMBZZZ.jpg', 'Image-URL-M': 'http://images.amazon.com/images/P/0142000205.01.MZZZZZZZ.jpg', 'Image-URL-L': 'http://images.amazon.com/images/P/0142000205.01.LZZZZZZZ.jpg', 'Num_Ratings': 309, 'Avg_Ratings': 3.3462783171521036}, {'Book-Title': \"Angela's Ashes (MMP) : A Memoir\", 'Book-Author': 'Frank McCourt', 'Image-URL-S': 'http://images.amazon.com/images/P/0684872153.01.THUMBZZZ.jpg', 'Image-URL-M': 'http://images.amazon.com/images/P/0684872153.01.MZZZZZZZ.jpg', 'Image-URL-L': 'http://images.amazon.com/images/P/0684872153.01.LZZZZZZZ.jpg', 'Num_Ratings': 326, 'Avg_Ratings': 3.3374233128834354}, {'Book-Title': 'How to Be Good', 'Book-Author': 'Nick Hornby', 'Image-URL-S': 'http://images.amazon.com/images/P/1573229326.01.THUMBZZZ.jpg', 'Image-URL-M': 'http://images.amazon.com/images/P/1573229326.01.MZZZZZZZ.jpg', 'Image-URL-L': 'http://images.amazon.com/images/P/1573229326.01.LZZZZZZZ.jpg', 'Num_Ratings': 304, 'Avg_Ratings': 3.3059210526315788}, {'Book-Title': 'Into Thin Air : A Personal Account of the Mt. Everest Disaster', 'Book-Author': 'JON KRAKAUER', 'Image-URL-S': 'http://images.amazon.com/images/P/0385494785.01.THUMBZZZ.jpg', 'Image-URL-M': 'http://images.amazon.com/images/P/0385494785.01.MZZZZZZZ.jpg', 'Image-URL-L': 'http://images.amazon.com/images/P/0385494785.01.LZZZZZZZ.jpg', 'Num_Ratings': 372, 'Avg_Ratings': 3.303763440860215}, {'Book-Title': 'The Partner', 'Book-Author': 'John Grisham', 'Image-URL-S': 'http://images.amazon.com/images/P/0385472951.01.THUMBZZZ.jpg', 'Image-URL-M': 'http://images.amazon.com/images/P/0385472951.01.MZZZZZZZ.jpg', 'Image-URL-L': 'http://images.amazon.com/images/P/0385472951.01.LZZZZZZZ.jpg', 'Num_Ratings': 478, 'Avg_Ratings': 3.290794979079498}, {'Book-Title': 'The God of Small Things', 'Book-Author': 'Arundhati Roy', 'Image-URL-S': 'http://images.amazon.com/images/P/0060977493.01.THUMBZZZ.jpg', 'Image-URL-M': 'http://images.amazon.com/images/P/0060977493.01.MZZZZZZZ.jpg', 'Image-URL-L': 'http://images.amazon.com/images/P/0060977493.01.LZZZZZZZ.jpg', 'Num_Ratings': 289, 'Avg_Ratings': 3.28719723183391}, {'Book-Title': 'The Witching Hour (Lives of the Mayfair Witches)', 'Book-Author': 'ANNE RICE', 'Image-URL-S': 'http://images.amazon.com/images/P/0345384466.01.THUMBZZZ.jpg', 'Image-URL-M': 'http://images.amazon.com/images/P/0345384466.01.MZZZZZZZ.jpg', 'Image-URL-L': 'http://images.amazon.com/images/P/0345384466.01.LZZZZZZZ.jpg', 'Num_Ratings': 274, 'Avg_Ratings': 3.281021897810219}, {'Book-Title': 'Dance upon the Air (Three Sisters Island Trilogy)', 'Book-Author': 'Nora Roberts', 'Image-URL-S': 'http://images.amazon.com/images/P/0515131229.01.THUMBZZZ.jpg', 'Image-URL-M': 'http://images.amazon.com/images/P/0515131229.01.MZZZZZZZ.jpg', 'Image-URL-L': 'http://images.amazon.com/images/P/0515131229.01.LZZZZZZZ.jpg', 'Num_Ratings': 258, 'Avg_Ratings': 3.2713178294573644}, {'Book-Title': '2nd Chance', 'Book-Author': 'James Patterson', 'Image-URL-S': 'http://images.amazon.com/images/P/0316693200.01.THUMBZZZ.jpg', 'Image-URL-M': 'http://images.amazon.com/images/P/0316693200.01.MZZZZZZZ.jpg', 'Image-URL-L': 'http://images.amazon.com/images/P/0316693200.01.LZZZZZZZ.jpg', 'Num_Ratings': 356, 'Avg_Ratings': 3.269662921348315}, {'Book-Title': 'Little Altars Everywhere: A Novel', 'Book-Author': 'Rebecca Wells', 'Image-URL-S': 'http://images.amazon.com/images/P/0060976845.01.THUMBZZZ.jpg', 'Image-URL-M': 'http://images.amazon.com/images/P/0060976845.01.MZZZZZZZ.jpg', 'Image-URL-L': 'http://images.amazon.com/images/P/0060976845.01.LZZZZZZZ.jpg', 'Num_Ratings': 434, 'Avg_Ratings': 3.2557603686635943}, {'Book-Title': 'SHIPPING NEWS', 'Book-Author': 'Annie Proulx', 'Image-URL-S': 'http://images.amazon.com/images/P/0671510053.01.THUMBZZZ.jpg', 'Image-URL-M': 'http://images.amazon.com/images/P/0671510053.01.MZZZZZZZ.jpg', 'Image-URL-L': 'http://images.amazon.com/images/P/0671510053.01.LZZZZZZZ.jpg', 'Num_Ratings': 382, 'Avg_Ratings': 3.2539267015706805}, {'Book-Title': 'Snow Falling on Cedars', 'Book-Author': 'David Guterson', 'Image-URL-S': 'http://images.amazon.com/images/P/0151001006.01.THUMBZZZ.jpg', 'Image-URL-M': 'http://images.amazon.com/images/P/0151001006.01.MZZZZZZZ.jpg', 'Image-URL-L': 'http://images.amazon.com/images/P/0151001006.01.LZZZZZZZ.jpg', 'Num_Ratings': 662, 'Avg_Ratings': 3.2522658610271904}, {'Book-Title': 'The Rescue', 'Book-Author': 'Nicholas Sparks', 'Image-URL-S': 'http://images.amazon.com/images/P/0446610399.01.THUMBZZZ.jpg', 'Image-URL-M': 'http://images.amazon.com/images/P/0446610399.01.MZZZZZZZ.jpg', 'Image-URL-L': 'http://images.amazon.com/images/P/0446610399.01.LZZZZZZZ.jpg', 'Num_Ratings': 308, 'Avg_Ratings': 3.2435064935064934}, {'Book-Title': 'A Painted House', 'Book-Author': 'John Grisham', 'Image-URL-S': 'http://images.amazon.com/images/P/044023722X.01.THUMBZZZ.jpg', 'Image-URL-M': 'http://images.amazon.com/images/P/044023722X.01.MZZZZZZZ.jpg', 'Image-URL-L': 'http://images.amazon.com/images/P/044023722X.01.LZZZZZZZ.jpg', 'Num_Ratings': 838, 'Avg_Ratings': 3.231503579952267}, {'Book-Title': 'Unnatural Exposure', 'Book-Author': 'Cornwell Patricia', 'Image-URL-S': 'http://images.amazon.com/images/P/0316639842.01.THUMBZZZ.jpg', 'Image-URL-M': 'http://images.amazon.com/images/P/0316639842.01.MZZZZZZZ.jpg', 'Image-URL-L': 'http://images.amazon.com/images/P/0316639842.01.LZZZZZZZ.jpg', 'Num_Ratings': 258, 'Avg_Ratings': 3.2209302325581395}, {'Book-Title': 'Dreamcatcher', 'Book-Author': 'Stephen King', 'Image-URL-S': 'http://images.amazon.com/images/P/0743211383.01.THUMBZZZ.jpg', 'Image-URL-M': 'http://images.amazon.com/images/P/0743211383.01.MZZZZZZZ.jpg', 'Image-URL-L': 'http://images.amazon.com/images/P/0743211383.01.LZZZZZZZ.jpg', 'Num_Ratings': 481, 'Avg_Ratings': 3.212058212058212}, {'Book-Title': 'Dolores Claiborne', 'Book-Author': 'Stephen King', 'Image-URL-S': 'http://images.amazon.com/images/P/0451177096.01.THUMBZZZ.jpg', 'Image-URL-M': 'http://images.amazon.com/images/P/0451177096.01.MZZZZZZZ.jpg', 'Image-URL-L': 'http://images.amazon.com/images/P/0451177096.01.LZZZZZZZ.jpg', 'Num_Ratings': 275, 'Avg_Ratings': 3.1854545454545455}, {'Book-Title': 'Point of Origin', 'Book-Author': 'Patricia Daniels Cornwell', 'Image-URL-S': 'http://images.amazon.com/images/P/0425169863.01.THUMBZZZ.jpg', 'Image-URL-M': 'http://images.amazon.com/images/P/0425169863.01.MZZZZZZZ.jpg', 'Image-URL-L': 'http://images.amazon.com/images/P/0425169863.01.LZZZZZZZ.jpg', 'Num_Ratings': 277, 'Avg_Ratings': 3.1805054151624548}, {'Book-Title': 'The Testament', 'Book-Author': 'John Grisham', 'Image-URL-S': 'http://images.amazon.com/images/P/0440234743.01.THUMBZZZ.jpg', 'Image-URL-M': 'http://images.amazon.com/images/P/0440234743.01.MZZZZZZZ.jpg', 'Image-URL-L': 'http://images.amazon.com/images/P/0440234743.01.LZZZZZZZ.jpg', 'Num_Ratings': 617, 'Avg_Ratings': 3.179902755267423}, {'Book-Title': 'I Know This Much Is True', 'Book-Author': 'Wally Lamb', 'Image-URL-S': 'http://images.amazon.com/images/P/0060987561.01.THUMBZZZ.jpg', 'Image-URL-M': 'http://images.amazon.com/images/P/0060987561.01.MZZZZZZZ.jpg', 'Image-URL-L': 'http://images.amazon.com/images/P/0060987561.01.LZZZZZZZ.jpg', 'Num_Ratings': 276, 'Avg_Ratings': 3.1739130434782608}, {'Book-Title': 'Midnight in the Garden of Good and Evil: A Savannah Story', 'Book-Author': 'John Berendt', 'Image-URL-S': 'http://images.amazon.com/images/P/0679429220.01.THUMBZZZ.jpg', 'Image-URL-M': 'http://images.amazon.com/images/P/0679429220.01.MZZZZZZZ.jpg', 'Image-URL-L': 'http://images.amazon.com/images/P/0679429220.01.LZZZZZZZ.jpg', 'Num_Ratings': 265, 'Avg_Ratings': 3.147169811320755}, {'Book-Title': \"The Girls' Guide to Hunting and Fishing\", 'Book-Author': 'Melissa Bank', 'Image-URL-S': 'http://images.amazon.com/images/P/0140293248.01.THUMBZZZ.jpg', 'Image-URL-M': 'http://images.amazon.com/images/P/0140293248.01.MZZZZZZZ.jpg', 'Image-URL-L': 'http://images.amazon.com/images/P/0140293248.01.LZZZZZZZ.jpg', 'Num_Ratings': 573, 'Avg_Ratings': 3.1396160558464223}, {'Book-Title': 'Cradle and All', 'Book-Author': 'James Patterson', 'Image-URL-S': 'http://images.amazon.com/images/P/0316690619.01.THUMBZZZ.jpg', 'Image-URL-M': 'http://images.amazon.com/images/P/0316690619.01.MZZZZZZZ.jpg', 'Image-URL-L': 'http://images.amazon.com/images/P/0316690619.01.LZZZZZZZ.jpg', 'Num_Ratings': 265, 'Avg_Ratings': 3.1358490566037736}, {'Book-Title': 'A Time to Kill', 'Book-Author': 'JOHN GRISHAM', 'Image-URL-S': 'http://images.amazon.com/images/P/0440211727.01.THUMBZZZ.jpg', 'Image-URL-M': 'http://images.amazon.com/images/P/0440211727.01.MZZZZZZZ.jpg', 'Image-URL-L': 'http://images.amazon.com/images/P/0440211727.01.LZZZZZZZ.jpg', 'Num_Ratings': 549, 'Avg_Ratings': 3.122040072859745}, {'Book-Title': 'The Last Time They Met : A Novel', 'Book-Author': 'Anita Shreve', 'Image-URL-S': 'http://images.amazon.com/images/P/0316781266.01.THUMBZZZ.jpg', 'Image-URL-M': 'http://images.amazon.com/images/P/0316781266.01.MZZZZZZZ.jpg', 'Image-URL-L': 'http://images.amazon.com/images/P/0316781266.01.LZZZZZZZ.jpg', 'Num_Ratings': 312, 'Avg_Ratings': 3.121794871794872}, {'Book-Title': 'Along Came a Spider (Alex Cross Novels)', 'Book-Author': 'James Patterson', 'Image-URL-S': 'http://images.amazon.com/images/P/0446364193.01.THUMBZZZ.jpg', 'Image-URL-M': 'http://images.amazon.com/images/P/0446364193.01.MZZZZZZZ.jpg', 'Image-URL-L': 'http://images.amazon.com/images/P/0446364193.01.LZZZZZZZ.jpg', 'Num_Ratings': 304, 'Avg_Ratings': 3.1217105263157894}, {'Book-Title': 'Midwives: A Novel', 'Book-Author': 'Chris Bohjalian', 'Image-URL-S': 'http://images.amazon.com/images/P/0375706771.01.THUMBZZZ.jpg', 'Image-URL-M': 'http://images.amazon.com/images/P/0375706771.01.MZZZZZZZ.jpg', 'Image-URL-L': 'http://images.amazon.com/images/P/0375706771.01.LZZZZZZZ.jpg', 'Num_Ratings': 380, 'Avg_Ratings': 3.113157894736842}, {'Book-Title': 'The Bridges of Madison County', 'Book-Author': 'Robert James Waller', 'Image-URL-S': 'http://images.amazon.com/images/P/044651652X.01.THUMBZZZ.jpg', 'Image-URL-M': 'http://images.amazon.com/images/P/044651652X.01.MZZZZZZZ.jpg', 'Image-URL-L': 'http://images.amazon.com/images/P/044651652X.01.LZZZZZZZ.jpg', 'Num_Ratings': 443, 'Avg_Ratings': 3.0880361173814896}, {'Book-Title': 'The Client', 'Book-Author': 'John Grisham', 'Image-URL-S': 'http://images.amazon.com/images/P/038542471X.01.THUMBZZZ.jpg', 'Image-URL-M': 'http://images.amazon.com/images/P/038542471X.01.MZZZZZZZ.jpg', 'Image-URL-L': 'http://images.amazon.com/images/P/038542471X.01.LZZZZZZZ.jpg', 'Num_Ratings': 483, 'Avg_Ratings': 3.0848861283643894}, {'Book-Title': 'The Firm', 'Book-Author': 'John Grisham', 'Image-URL-S': 'http://images.amazon.com/images/P/0385416342.01.THUMBZZZ.jpg', 'Image-URL-M': 'http://images.amazon.com/images/P/0385416342.01.MZZZZZZZ.jpg', 'Image-URL-L': 'http://images.amazon.com/images/P/0385416342.01.LZZZZZZZ.jpg', 'Num_Ratings': 569, 'Avg_Ratings': 3.0808435852372584}, {'Book-Title': 'The Smoke Jumper', 'Book-Author': 'Nicholas Evans', 'Image-URL-S': 'http://images.amazon.com/images/P/0385334036.01.THUMBZZZ.jpg', 'Image-URL-M': 'http://images.amazon.com/images/P/0385334036.01.MZZZZZZZ.jpg', 'Image-URL-L': 'http://images.amazon.com/images/P/0385334036.01.LZZZZZZZ.jpg', 'Num_Ratings': 262, 'Avg_Ratings': 3.0572519083969465}, {'Book-Title': 'The Joy Luck Club', 'Book-Author': 'Amy Tan', 'Image-URL-S': 'http://images.amazon.com/images/P/0804106304.01.THUMBZZZ.jpg', 'Image-URL-M': 'http://images.amazon.com/images/P/0804106304.01.MZZZZZZZ.jpg', 'Image-URL-L': 'http://images.amazon.com/images/P/0804106304.01.LZZZZZZZ.jpg', 'Num_Ratings': 555, 'Avg_Ratings': 3.0558558558558557}, {'Book-Title': \"Full House (Janet Evanovich's Full Series)\", 'Book-Author': 'Janet Evanovich', 'Image-URL-S': 'http://images.amazon.com/images/P/0312983271.01.THUMBZZZ.jpg', 'Image-URL-M': 'http://images.amazon.com/images/P/0312983271.01.MZZZZZZZ.jpg', 'Image-URL-L': 'http://images.amazon.com/images/P/0312983271.01.LZZZZZZZ.jpg', 'Num_Ratings': 257, 'Avg_Ratings': 3.0428015564202333}, {'Book-Title': 'Pop Goes the Weasel', 'Book-Author': 'James Patterson', 'Image-URL-S': 'http://images.amazon.com/images/P/0316693286.01.THUMBZZZ.jpg', 'Image-URL-M': 'http://images.amazon.com/images/P/0316693286.01.MZZZZZZZ.jpg', 'Image-URL-L': 'http://images.amazon.com/images/P/0316693286.01.LZZZZZZZ.jpg', 'Num_Ratings': 273, 'Avg_Ratings': 3.04029304029304}, {'Book-Title': 'The King of Torts', 'Book-Author': 'John Grisham', 'Image-URL-S': 'http://images.amazon.com/images/P/0385508042.01.THUMBZZZ.jpg', 'Image-URL-M': 'http://images.amazon.com/images/P/0385508042.01.MZZZZZZZ.jpg', 'Image-URL-L': 'http://images.amazon.com/images/P/0385508042.01.LZZZZZZZ.jpg', 'Num_Ratings': 458, 'Avg_Ratings': 3.039301310043668}, {'Book-Title': 'Tara Road', 'Book-Author': 'Maeve Binchy', 'Image-URL-S': 'http://images.amazon.com/images/P/0440235596.01.THUMBZZZ.jpg', 'Image-URL-M': 'http://images.amazon.com/images/P/0440235596.01.MZZZZZZZ.jpg', 'Image-URL-L': 'http://images.amazon.com/images/P/0440235596.01.LZZZZZZZ.jpg', 'Num_Ratings': 304, 'Avg_Ratings': 3.036184210526316}, {'Book-Title': 'House of Sand and Fog', 'Book-Author': 'Andre Dubus III', 'Image-URL-S': 'http://images.amazon.com/images/P/0375727345.01.THUMBZZZ.jpg', 'Image-URL-M': 'http://images.amazon.com/images/P/0375727345.01.MZZZZZZZ.jpg', 'Image-URL-L': 'http://images.amazon.com/images/P/0375727345.01.LZZZZZZZ.jpg', 'Num_Ratings': 588, 'Avg_Ratings': 3.0306122448979593}, {'Book-Title': 'The Chamber', 'Book-Author': 'John Grisham', 'Image-URL-S': 'http://images.amazon.com/images/P/0385424728.01.THUMBZZZ.jpg', 'Image-URL-M': 'http://images.amazon.com/images/P/0385424728.01.MZZZZZZZ.jpg', 'Image-URL-L': 'http://images.amazon.com/images/P/0385424728.01.LZZZZZZZ.jpg', 'Num_Ratings': 509, 'Avg_Ratings': 3.0157170923379173}, {'Book-Title': 'The Reader', 'Book-Author': 'Bernhard Schlink', 'Image-URL-S': 'http://images.amazon.com/images/P/0679442790.01.THUMBZZZ.jpg', 'Image-URL-M': 'http://images.amazon.com/images/P/0679442790.01.MZZZZZZZ.jpg', 'Image-URL-L': 'http://images.amazon.com/images/P/0679442790.01.LZZZZZZZ.jpg', 'Num_Ratings': 466, 'Avg_Ratings': 3.0128755364806867}, {'Book-Title': 'The Blind Assassin', 'Book-Author': 'Margaret Atwood', 'Image-URL-S': 'http://images.amazon.com/images/P/0385475721.01.THUMBZZZ.jpg', 'Image-URL-M': 'http://images.amazon.com/images/P/0385475721.01.MZZZZZZZ.jpg', 'Image-URL-L': 'http://images.amazon.com/images/P/0385475721.01.LZZZZZZZ.jpg', 'Num_Ratings': 255, 'Avg_Ratings': 3.007843137254902}, {'Book-Title': 'STONES FROM THE RIVER', 'Book-Author': 'Ursula Hegi', 'Image-URL-S': 'http://images.amazon.com/images/P/0684844729.01.THUMBZZZ.jpg', 'Image-URL-M': 'http://images.amazon.com/images/P/0684844729.01.MZZZZZZZ.jpg', 'Image-URL-L': 'http://images.amazon.com/images/P/0684844729.01.LZZZZZZZ.jpg', 'Num_Ratings': 364, 'Avg_Ratings': 3.0027472527472527}, {'Book-Title': \"The Kitchen God's Wife\", 'Book-Author': 'Amy Tan', 'Image-URL-S': 'http://images.amazon.com/images/P/0399135782.01.THUMBZZZ.jpg', 'Image-URL-M': 'http://images.amazon.com/images/P/0399135782.01.MZZZZZZZ.jpg', 'Image-URL-L': 'http://images.amazon.com/images/P/0399135782.01.LZZZZZZZ.jpg', 'Num_Ratings': 311, 'Avg_Ratings': 2.9967845659163985}, {'Book-Title': '\\\\O\\\\\" Is for Outlaw\"', 'Book-Author': 'SUE GRAFTON', 'Image-URL-S': 'http://images.amazon.com/images/P/0449003787.01.THUMBZZZ.jpg', 'Image-URL-M': 'http://images.amazon.com/images/P/0449003787.01.MZZZZZZZ.jpg', 'Image-URL-L': 'http://images.amazon.com/images/P/0449003787.01.LZZZZZZZ.jpg', 'Num_Ratings': 269, 'Avg_Ratings': 2.9888475836431225}, {'Book-Title': 'The Hot Zone', 'Book-Author': 'Richard Preston', 'Image-URL-S': 'http://images.amazon.com/images/P/0385479565.01.THUMBZZZ.jpg', 'Image-URL-M': 'http://images.amazon.com/images/P/0385479565.01.MZZZZZZZ.jpg', 'Image-URL-L': 'http://images.amazon.com/images/P/0385479565.01.LZZZZZZZ.jpg', 'Num_Ratings': 260, 'Avg_Ratings': 2.973076923076923}, {'Book-Title': 'The Cider House Rules', 'Book-Author': 'John Irving', 'Image-URL-S': 'http://images.amazon.com/images/P/0553258001.01.THUMBZZZ.jpg', 'Image-URL-M': 'http://images.amazon.com/images/P/0553258001.01.MZZZZZZZ.jpg', 'Image-URL-L': 'http://images.amazon.com/images/P/0553258001.01.LZZZZZZZ.jpg', 'Num_Ratings': 393, 'Avg_Ratings': 2.969465648854962}, {'Book-Title': 'The Alienist', 'Book-Author': 'Caleb Carr', 'Image-URL-S': 'http://images.amazon.com/images/P/0553572997.01.THUMBZZZ.jpg', 'Image-URL-M': 'http://images.amazon.com/images/P/0553572997.01.MZZZZZZZ.jpg', 'Image-URL-L': 'http://images.amazon.com/images/P/0553572997.01.LZZZZZZZ.jpg', 'Num_Ratings': 350, 'Avg_Ratings': 2.9657142857142857}, {'Book-Title': 'Violets Are Blue', 'Book-Author': 'James Patterson', 'Image-URL-S': 'http://images.amazon.com/images/P/0446611212.01.THUMBZZZ.jpg', 'Image-URL-M': 'http://images.amazon.com/images/P/0446611212.01.MZZZZZZZ.jpg', 'Image-URL-L': 'http://images.amazon.com/images/P/0446611212.01.LZZZZZZZ.jpg', 'Num_Ratings': 379, 'Avg_Ratings': 2.955145118733509}, {'Book-Title': 'Deception Point', 'Book-Author': 'Dan Brown', 'Image-URL-S': 'http://images.amazon.com/images/P/0671027387.01.THUMBZZZ.jpg', 'Image-URL-M': 'http://images.amazon.com/images/P/0671027387.01.MZZZZZZZ.jpg', 'Image-URL-L': 'http://images.amazon.com/images/P/0671027387.01.LZZZZZZZ.jpg', 'Num_Ratings': 262, 'Avg_Ratings': 2.931297709923664}, {'Book-Title': 'The Rainmaker', 'Book-Author': 'JOHN GRISHAM', 'Image-URL-S': 'http://images.amazon.com/images/P/044022165X.01.THUMBZZZ.jpg', 'Image-URL-M': 'http://images.amazon.com/images/P/044022165X.01.MZZZZZZZ.jpg', 'Image-URL-L': 'http://images.amazon.com/images/P/044022165X.01.LZZZZZZZ.jpg', 'Num_Ratings': 501, 'Avg_Ratings': 2.9221556886227544}, {'Book-Title': 'Mystic River', 'Book-Author': 'Dennis Lehane', 'Image-URL-S': 'http://images.amazon.com/images/P/0380731851.01.THUMBZZZ.jpg', 'Image-URL-M': 'http://images.amazon.com/images/P/0380731851.01.MZZZZZZZ.jpg', 'Image-URL-L': 'http://images.amazon.com/images/P/0380731851.01.LZZZZZZZ.jpg', 'Num_Ratings': 362, 'Avg_Ratings': 2.911602209944751}, {'Book-Title': 'Airframe', 'Book-Author': 'Michael Crichton', 'Image-URL-S': 'http://images.amazon.com/images/P/0345402871.01.THUMBZZZ.jpg', 'Image-URL-M': 'http://images.amazon.com/images/P/0345402871.01.MZZZZZZZ.jpg', 'Image-URL-L': 'http://images.amazon.com/images/P/0345402871.01.LZZZZZZZ.jpg', 'Num_Ratings': 332, 'Avg_Ratings': 2.9006024096385543}, {'Book-Title': 'The Runaway Jury', 'Book-Author': 'JOHN GRISHAM', 'Image-URL-S': 'http://images.amazon.com/images/P/0440221471.01.THUMBZZZ.jpg', 'Image-URL-M': 'http://images.amazon.com/images/P/0440221471.01.MZZZZZZZ.jpg', 'Image-URL-L': 'http://images.amazon.com/images/P/0440221471.01.LZZZZZZZ.jpg', 'Num_Ratings': 520, 'Avg_Ratings': 2.8807692307692307}, {'Book-Title': 'All I Really Need to Know', 'Book-Author': 'ROBERT FULGHUM', 'Image-URL-S': 'http://images.amazon.com/images/P/080410526X.01.THUMBZZZ.jpg', 'Image-URL-M': 'http://images.amazon.com/images/P/080410526X.01.MZZZZZZZ.jpg', 'Image-URL-L': 'http://images.amazon.com/images/P/080410526X.01.LZZZZZZZ.jpg', 'Num_Ratings': 258, 'Avg_Ratings': 2.87984496124031}, {'Book-Title': 'The Last Precinct', 'Book-Author': 'Patricia Cornwell', 'Image-URL-S': 'http://images.amazon.com/images/P/0425180638.01.THUMBZZZ.jpg', 'Image-URL-M': 'http://images.amazon.com/images/P/0425180638.01.MZZZZZZZ.jpg', 'Image-URL-L': 'http://images.amazon.com/images/P/0425180638.01.LZZZZZZZ.jpg', 'Num_Ratings': 337, 'Avg_Ratings': 2.8753709198813056}, {'Book-Title': 'We Were the Mulvaneys', 'Book-Author': 'Joyce Carol Oates', 'Image-URL-S': 'http://images.amazon.com/images/P/0452282829.01.THUMBZZZ.jpg', 'Image-URL-M': 'http://images.amazon.com/images/P/0452282829.01.MZZZZZZZ.jpg', 'Image-URL-L': 'http://images.amazon.com/images/P/0452282829.01.LZZZZZZZ.jpg', 'Num_Ratings': 342, 'Avg_Ratings': 2.8684210526315788}, {'Book-Title': 'The Lost World', 'Book-Author': 'Michael Crichton', 'Image-URL-S': 'http://images.amazon.com/images/P/034540288X.01.THUMBZZZ.jpg', 'Image-URL-M': 'http://images.amazon.com/images/P/034540288X.01.MZZZZZZZ.jpg', 'Image-URL-L': 'http://images.amazon.com/images/P/034540288X.01.LZZZZZZZ.jpg', 'Num_Ratings': 256, 'Avg_Ratings': 2.85546875}, {'Book-Title': 'The Street Lawyer', 'Book-Author': 'JOHN GRISHAM', 'Image-URL-S': 'http://images.amazon.com/images/P/0440225701.01.THUMBZZZ.jpg', 'Image-URL-M': 'http://images.amazon.com/images/P/0440225701.01.MZZZZZZZ.jpg', 'Image-URL-L': 'http://images.amazon.com/images/P/0440225701.01.LZZZZZZZ.jpg', 'Num_Ratings': 545, 'Avg_Ratings': 2.851376146788991}, {'Book-Title': 'The Brethren', 'Book-Author': 'JOHN GRISHAM', 'Image-URL-S': 'http://images.amazon.com/images/P/0385497466.01.THUMBZZZ.jpg', 'Image-URL-M': 'http://images.amazon.com/images/P/0385497466.01.MZZZZZZZ.jpg', 'Image-URL-L': 'http://images.amazon.com/images/P/0385497466.01.LZZZZZZZ.jpg', 'Num_Ratings': 556, 'Avg_Ratings': 2.8507194244604315}, {'Book-Title': 'The Hundred Secret Senses', 'Book-Author': 'Amy Tan', 'Image-URL-S': 'http://images.amazon.com/images/P/0399141146.01.THUMBZZZ.jpg', 'Image-URL-M': 'http://images.amazon.com/images/P/0399141146.01.MZZZZZZZ.jpg', 'Image-URL-L': 'http://images.amazon.com/images/P/0399141146.01.LZZZZZZZ.jpg', 'Num_Ratings': 336, 'Avg_Ratings': 2.830357142857143}, {'Book-Title': 'Kiss the Girls', 'Book-Author': 'James Patterson', 'Image-URL-S': 'http://images.amazon.com/images/P/0446601241.01.THUMBZZZ.jpg', 'Image-URL-M': 'http://images.amazon.com/images/P/0446601241.01.MZZZZZZZ.jpg', 'Image-URL-L': 'http://images.amazon.com/images/P/0446601241.01.LZZZZZZZ.jpg', 'Num_Ratings': 256, 'Avg_Ratings': 2.828125}, {'Book-Title': 'Black and Blue', 'Book-Author': 'ANNA QUINDLEN', 'Image-URL-S': 'http://images.amazon.com/images/P/0440226104.01.THUMBZZZ.jpg', 'Image-URL-M': 'http://images.amazon.com/images/P/0440226104.01.MZZZZZZZ.jpg', 'Image-URL-L': 'http://images.amazon.com/images/P/0440226104.01.LZZZZZZZ.jpg', 'Num_Ratings': 263, 'Avg_Ratings': 2.79467680608365}, {'Book-Title': 'A Widow for One Year', 'Book-Author': 'JOHN IRVING', 'Image-URL-S': 'http://images.amazon.com/images/P/0345424719.01.THUMBZZZ.jpg', 'Image-URL-M': 'http://images.amazon.com/images/P/0345424719.01.MZZZZZZZ.jpg', 'Image-URL-L': 'http://images.amazon.com/images/P/0345424719.01.LZZZZZZZ.jpg', 'Num_Ratings': 273, 'Avg_Ratings': 2.7838827838827838}, {'Book-Title': 'Black Notice', 'Book-Author': 'Patricia Daniels Cornwell', 'Image-URL-S': 'http://images.amazon.com/images/P/0399145087.01.THUMBZZZ.jpg', 'Image-URL-M': 'http://images.amazon.com/images/P/0399145087.01.MZZZZZZZ.jpg', 'Image-URL-L': 'http://images.amazon.com/images/P/0399145087.01.LZZZZZZZ.jpg', 'Num_Ratings': 360, 'Avg_Ratings': 2.783333333333333}, {'Book-Title': 'Message in a Bottle', 'Book-Author': 'Nicholas Sparks', 'Image-URL-S': 'http://images.amazon.com/images/P/0446523569.01.THUMBZZZ.jpg', 'Image-URL-M': 'http://images.amazon.com/images/P/0446523569.01.MZZZZZZZ.jpg', 'Image-URL-L': 'http://images.amazon.com/images/P/0446523569.01.LZZZZZZZ.jpg', 'Num_Ratings': 496, 'Avg_Ratings': 2.778225806451613}, {'Book-Title': 'Flesh and Blood', 'Book-Author': 'Jonathan Kellerman', 'Image-URL-S': 'http://images.amazon.com/images/P/0679459626.01.THUMBZZZ.jpg', 'Image-URL-M': 'http://images.amazon.com/images/P/0679459626.01.MZZZZZZZ.jpg', 'Image-URL-L': 'http://images.amazon.com/images/P/0679459626.01.LZZZZZZZ.jpg', 'Num_Ratings': 254, 'Avg_Ratings': 2.7755905511811023}, {'Book-Title': 'Hannibal', 'Book-Author': 'Thomas Harris', 'Image-URL-S': 'http://images.amazon.com/images/P/0440224675.01.THUMBZZZ.jpg', 'Image-URL-M': 'http://images.amazon.com/images/P/0440224675.01.MZZZZZZZ.jpg', 'Image-URL-L': 'http://images.amazon.com/images/P/0440224675.01.LZZZZZZZ.jpg', 'Num_Ratings': 468, 'Avg_Ratings': 2.7606837606837606}, {'Book-Title': 'Sphere', 'Book-Author': 'MICHAEL CRICHTON', 'Image-URL-S': 'http://images.amazon.com/images/P/0345353145.01.THUMBZZZ.jpg', 'Image-URL-M': 'http://images.amazon.com/images/P/0345353145.01.MZZZZZZZ.jpg', 'Image-URL-L': 'http://images.amazon.com/images/P/0345353145.01.LZZZZZZZ.jpg', 'Num_Ratings': 374, 'Avg_Ratings': 2.7433155080213902}, {'Book-Title': 'A Is for Alibi (Kinsey Millhone Mysteries (Paperback))', 'Book-Author': 'SUE GRAFTON', 'Image-URL-S': 'http://images.amazon.com/images/P/0553279912.01.THUMBZZZ.jpg', 'Image-URL-M': 'http://images.amazon.com/images/P/0553279912.01.MZZZZZZZ.jpg', 'Image-URL-L': 'http://images.amazon.com/images/P/0553279912.01.LZZZZZZZ.jpg', 'Num_Ratings': 285, 'Avg_Ratings': 2.7333333333333334}, {'Book-Title': 'When the Wind Blows', 'Book-Author': 'James Patterson', 'Image-URL-S': 'http://images.amazon.com/images/P/0316693324.01.THUMBZZZ.jpg', 'Image-URL-M': 'http://images.amazon.com/images/P/0316693324.01.MZZZZZZZ.jpg', 'Image-URL-L': 'http://images.amazon.com/images/P/0316693324.01.LZZZZZZZ.jpg', 'Num_Ratings': 396, 'Avg_Ratings': 2.7222222222222223}, {'Book-Title': 'The Queen of the Damned (Vampire Chronicles (Paperback))', 'Book-Author': 'Anne Rice', 'Image-URL-S': 'http://images.amazon.com/images/P/0345351525.01.THUMBZZZ.jpg', 'Image-URL-M': 'http://images.amazon.com/images/P/0345351525.01.MZZZZZZZ.jpg', 'Image-URL-L': 'http://images.amazon.com/images/P/0345351525.01.LZZZZZZZ.jpg', 'Num_Ratings': 274, 'Avg_Ratings': 2.708029197080292}, {'Book-Title': 'The Horse Whisperer', 'Book-Author': 'Nicholas Evans', 'Image-URL-S': 'http://images.amazon.com/images/P/0440222656.01.THUMBZZZ.jpg', 'Image-URL-M': 'http://images.amazon.com/images/P/0440222656.01.MZZZZZZZ.jpg', 'Image-URL-L': 'http://images.amazon.com/images/P/0440222656.01.LZZZZZZZ.jpg', 'Num_Ratings': 507, 'Avg_Ratings': 2.6863905325443787}, {'Book-Title': 'Back Roads', 'Book-Author': \"Tawni O'Dell\", 'Image-URL-S': 'http://images.amazon.com/images/P/0451202341.01.THUMBZZZ.jpg', 'Image-URL-M': 'http://images.amazon.com/images/P/0451202341.01.MZZZZZZZ.jpg', 'Image-URL-L': 'http://images.amazon.com/images/P/0451202341.01.LZZZZZZZ.jpg', 'Num_Ratings': 276, 'Avg_Ratings': 2.681159420289855}, {'Book-Title': \"The Book of Ruth (Oprah's Book Club (Paperback))\", 'Book-Author': 'Jane Hamilton', 'Image-URL-S': 'http://images.amazon.com/images/P/0385265700.01.THUMBZZZ.jpg', 'Image-URL-M': 'http://images.amazon.com/images/P/0385265700.01.MZZZZZZZ.jpg', 'Image-URL-L': 'http://images.amazon.com/images/P/0385265700.01.LZZZZZZZ.jpg', 'Num_Ratings': 319, 'Avg_Ratings': 2.6677115987460813}, {'Book-Title': 'Scarlet Feather', 'Book-Author': 'Maeve Binchy', 'Image-URL-S': 'http://images.amazon.com/images/P/0525945938.01.THUMBZZZ.jpg', 'Image-URL-M': 'http://images.amazon.com/images/P/0525945938.01.MZZZZZZZ.jpg', 'Image-URL-L': 'http://images.amazon.com/images/P/0525945938.01.LZZZZZZZ.jpg', 'Num_Ratings': 256, 'Avg_Ratings': 2.6328125}, {'Book-Title': 'Lightning', 'Book-Author': 'Dean R. Koontz', 'Image-URL-S': 'http://images.amazon.com/images/P/0425115801.01.THUMBZZZ.jpg', 'Image-URL-M': 'http://images.amazon.com/images/P/0425115801.01.MZZZZZZZ.jpg', 'Image-URL-L': 'http://images.amazon.com/images/P/0425115801.01.LZZZZZZZ.jpg', 'Num_Ratings': 274, 'Avg_Ratings': 2.627737226277372}, {'Book-Title': 'Cause of Death', 'Book-Author': 'Patricia Daniels Cornwell', 'Image-URL-S': 'http://images.amazon.com/images/P/0425158616.01.THUMBZZZ.jpg', 'Image-URL-M': 'http://images.amazon.com/images/P/0425158616.01.MZZZZZZZ.jpg', 'Image-URL-L': 'http://images.amazon.com/images/P/0425158616.01.LZZZZZZZ.jpg', 'Num_Ratings': 287, 'Avg_Ratings': 2.6202090592334493}, {'Book-Title': 'The Pelican Brief', 'Book-Author': 'John Grisham', 'Image-URL-S': 'http://images.amazon.com/images/P/0440214041.01.THUMBZZZ.jpg', 'Image-URL-M': 'http://images.amazon.com/images/P/0440214041.01.MZZZZZZZ.jpg', 'Image-URL-L': 'http://images.amazon.com/images/P/0440214041.01.LZZZZZZZ.jpg', 'Num_Ratings': 581, 'Avg_Ratings': 2.6110154905335627}, {'Book-Title': 'While I Was Gone', 'Book-Author': 'Sue Miller', 'Image-URL-S': 'http://images.amazon.com/images/P/0345443284.01.THUMBZZZ.jpg', 'Image-URL-M': 'http://images.amazon.com/images/P/0345443284.01.MZZZZZZZ.jpg', 'Image-URL-L': 'http://images.amazon.com/images/P/0345443284.01.LZZZZZZZ.jpg', 'Num_Ratings': 431, 'Avg_Ratings': 2.5800464037122968}, {'Book-Title': 'The Perfect Storm : A True Story of Men Against the Sea', 'Book-Author': 'Sebastian Junger', 'Image-URL-S': 'http://images.amazon.com/images/P/0060977477.01.THUMBZZZ.jpg', 'Image-URL-M': 'http://images.amazon.com/images/P/0060977477.01.MZZZZZZZ.jpg', 'Image-URL-L': 'http://images.amazon.com/images/P/0060977477.01.LZZZZZZZ.jpg', 'Num_Ratings': 404, 'Avg_Ratings': 2.5396039603960396}, {'Book-Title': 'A Map of the World', 'Book-Author': 'Jane Hamilton', 'Image-URL-S': 'http://images.amazon.com/images/P/0385500769.01.THUMBZZZ.jpg', 'Image-URL-M': 'http://images.amazon.com/images/P/0385500769.01.MZZZZZZZ.jpg', 'Image-URL-L': 'http://images.amazon.com/images/P/0385500769.01.LZZZZZZZ.jpg', 'Num_Ratings': 327, 'Avg_Ratings': 2.492354740061162}, {'Book-Title': 'Rising Sun', 'Book-Author': 'MICHAEL CRICHTON', 'Image-URL-S': 'http://images.amazon.com/images/P/0345380371.01.THUMBZZZ.jpg', 'Image-URL-M': 'http://images.amazon.com/images/P/0345380371.01.MZZZZZZZ.jpg', 'Image-URL-L': 'http://images.amazon.com/images/P/0345380371.01.LZZZZZZZ.jpg', 'Num_Ratings': 278, 'Avg_Ratings': 2.4424460431654675}, {'Book-Title': 'Congo', 'Book-Author': 'Michael Crichton', 'Image-URL-S': 'http://images.amazon.com/images/P/0345378490.01.THUMBZZZ.jpg', 'Image-URL-M': 'http://images.amazon.com/images/P/0345378490.01.MZZZZZZZ.jpg', 'Image-URL-L': 'http://images.amazon.com/images/P/0345378490.01.LZZZZZZZ.jpg', 'Num_Ratings': 299, 'Avg_Ratings': 2.431438127090301}, {'Book-Title': 'The Prince of Tides', 'Book-Author': 'Pat Conroy', 'Image-URL-S': 'http://images.amazon.com/images/P/0553268880.01.THUMBZZZ.jpg', 'Image-URL-M': 'http://images.amazon.com/images/P/0553268880.01.MZZZZZZZ.jpg', 'Image-URL-L': 'http://images.amazon.com/images/P/0553268880.01.LZZZZZZZ.jpg', 'Num_Ratings': 291, 'Avg_Ratings': 2.3539518900343643}, {'Book-Title': 'Disclosure', 'Book-Author': 'Michael Crichton', 'Image-URL-S': 'http://images.amazon.com/images/P/0345391055.01.THUMBZZZ.jpg', 'Image-URL-M': 'http://images.amazon.com/images/P/0345391055.01.MZZZZZZZ.jpg', 'Image-URL-L': 'http://images.amazon.com/images/P/0345391055.01.LZZZZZZZ.jpg', 'Num_Ratings': 318, 'Avg_Ratings': 2.3459119496855347}, {'Book-Title': \"Vinegar Hill (Oprah's Book Club (Paperback))\", 'Book-Author': 'A. Manette Ansay', 'Image-URL-S': 'http://images.amazon.com/images/P/0380730138.01.THUMBZZZ.jpg', 'Image-URL-M': 'http://images.amazon.com/images/P/0380730138.01.MZZZZZZZ.jpg', 'Image-URL-L': 'http://images.amazon.com/images/P/0380730138.01.LZZZZZZZ.jpg', 'Num_Ratings': 265, 'Avg_Ratings': 2.2452830188679247}, {'Book-Title': 'Whispers', 'Book-Author': 'BELVA PLAIN', 'Image-URL-S': 'http://images.amazon.com/images/P/0440216745.01.THUMBZZZ.jpg', 'Image-URL-M': 'http://images.amazon.com/images/P/0440216745.01.MZZZZZZZ.jpg', 'Image-URL-L': 'http://images.amazon.com/images/P/0440216745.01.LZZZZZZZ.jpg', 'Num_Ratings': 286, 'Avg_Ratings': 2.199300699300699}, {'Book-Title': 'Presumed Innocent', 'Book-Author': 'Scott Turow', 'Image-URL-S': 'http://images.amazon.com/images/P/0446359866.01.THUMBZZZ.jpg', 'Image-URL-M': 'http://images.amazon.com/images/P/0446359866.01.MZZZZZZZ.jpg', 'Image-URL-L': 'http://images.amazon.com/images/P/0446359866.01.LZZZZZZZ.jpg', 'Num_Ratings': 294, 'Avg_Ratings': 2.139455782312925}, {'Book-Title': 'Isle of Dogs', 'Book-Author': 'Patricia Cornwell', 'Image-URL-S': 'http://images.amazon.com/images/P/0425182908.01.THUMBZZZ.jpg', 'Image-URL-M': 'http://images.amazon.com/images/P/0425182908.01.MZZZZZZZ.jpg', 'Image-URL-L': 'http://images.amazon.com/images/P/0425182908.01.LZZZZZZZ.jpg', 'Num_Ratings': 288, 'Avg_Ratings': 2.0}, {'Book-Title': 'Wild Animus', 'Book-Author': 'Rich Shapero', 'Image-URL-S': 'http://images.amazon.com/images/P/0971880107.01.THUMBZZZ.jpg', 'Image-URL-M': 'http://images.amazon.com/images/P/0971880107.01.MZZZZZZZ.jpg', 'Image-URL-L': 'http://images.amazon.com/images/P/0971880107.01.LZZZZZZZ.jpg', 'Num_Ratings': 2502, 'Avg_Ratings': 1.0195843325339728}]\n"
     ]
    }
   ],
   "source": [
    "# Convert DataFrame to a list of dictionaries for pickel export\n",
    "\n",
    "popular_df_dict = popular_df.to_dict(orient='records')\n",
    "\n",
    "print(popular_df_dict)"
   ]
  },
  {
   "cell_type": "code",
   "execution_count": 136,
   "id": "fc275a05",
   "metadata": {},
   "outputs": [
    {
     "data": {
      "text/plain": [
       "{'Book-Title': 'Harry Potter and the Prisoner of Azkaban (Book 3)',\n",
       " 'Book-Author': 'J. K. Rowling',\n",
       " 'Image-URL-S': 'http://images.amazon.com/images/P/0439136350.01.THUMBZZZ.jpg',\n",
       " 'Image-URL-M': 'http://images.amazon.com/images/P/0439136350.01.MZZZZZZZ.jpg',\n",
       " 'Image-URL-L': 'http://images.amazon.com/images/P/0439136350.01.LZZZZZZZ.jpg',\n",
       " 'Num_Ratings': 428,\n",
       " 'Avg_Ratings': 5.852803738317757}"
      ]
     },
     "execution_count": 136,
     "metadata": {},
     "output_type": "execute_result"
    }
   ],
   "source": [
    "popular_df_dict[0]"
   ]
  },
  {
   "cell_type": "code",
   "execution_count": null,
   "id": "7b00370b",
   "metadata": {},
   "outputs": [],
   "source": []
  }
 ],
 "metadata": {
  "kernelspec": {
   "display_name": "Python 3 (ipykernel)",
   "language": "python",
   "name": "python3"
  },
  "language_info": {
   "codemirror_mode": {
    "name": "ipython",
    "version": 3
   },
   "file_extension": ".py",
   "mimetype": "text/x-python",
   "name": "python",
   "nbconvert_exporter": "python",
   "pygments_lexer": "ipython3",
   "version": "3.11.5"
  }
 },
 "nbformat": 4,
 "nbformat_minor": 5
}
